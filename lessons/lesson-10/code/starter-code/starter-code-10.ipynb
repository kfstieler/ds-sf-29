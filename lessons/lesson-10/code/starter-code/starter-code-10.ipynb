{
 "cells": [
  {
   "cell_type": "markdown",
   "metadata": {},
   "source": [
    "### Cost Benefit Questions\n",
    "\n",
    "1. How would you rephrase the business problem if your model was optimizing toward _precision_? i.e., How might the model behave differently, and what effect would it have?\n",
    "2. How would you rephrase the business problem if your model was optimizing toward _recall_?\n",
    "3. What would the most ideal model look like in this case?\n"
   ]
  },
  {
   "cell_type": "markdown",
   "metadata": {},
   "source": [
    "### Visualizing models over variables"
   ]
  },
  {
   "cell_type": "code",
   "execution_count": 1,
   "metadata": {
    "collapsed": true
   },
   "outputs": [],
   "source": [
    "%matplotlib inline"
   ]
  },
  {
   "cell_type": "code",
   "execution_count": 16,
   "metadata": {
    "collapsed": false
   },
   "outputs": [],
   "source": [
    "import pandas as pd\n",
    "import sklearn.linear_model as lm\n",
    "import matplotlib.pyplot as plt\n",
    "import seaborn as sns\n",
    "\n",
    "df = pd.read_csv('../../assets/dataset/flight_delays.csv')\n",
    "df = df.loc[df.DEP_DEL15.notnull()].copy()"
   ]
  },
  {
   "cell_type": "code",
   "execution_count": 15,
   "metadata": {
    "collapsed": false
   },
   "outputs": [
    {
     "data": {
      "text/html": [
       "<div>\n",
       "<table border=\"1\" class=\"dataframe\">\n",
       "  <thead>\n",
       "    <tr style=\"text-align: right;\">\n",
       "      <th></th>\n",
       "      <th>DAY_OF_MONTH</th>\n",
       "      <th>DAY_OF_WEEK</th>\n",
       "      <th>FL_DATE</th>\n",
       "      <th>UNIQUE_CARRIER</th>\n",
       "      <th>AIRLINE_ID</th>\n",
       "      <th>CARRIER</th>\n",
       "      <th>ORIGIN_AIRPORT_ID</th>\n",
       "      <th>ORIGIN_AIRPORT_SEQ_ID</th>\n",
       "      <th>ORIGIN_CITY_MARKET_ID</th>\n",
       "      <th>DEST_AIRPORT_ID</th>\n",
       "      <th>...</th>\n",
       "      <th>carrier_US</th>\n",
       "      <th>carrier_VX</th>\n",
       "      <th>carrier_WN</th>\n",
       "      <th>DOW_1</th>\n",
       "      <th>DOW_2</th>\n",
       "      <th>DOW_3</th>\n",
       "      <th>DOW_4</th>\n",
       "      <th>DOW_5</th>\n",
       "      <th>DOW_6</th>\n",
       "      <th>DOW_7</th>\n",
       "    </tr>\n",
       "  </thead>\n",
       "  <tbody>\n",
       "    <tr>\n",
       "      <th>469963</th>\n",
       "      <td>31</td>\n",
       "      <td>6</td>\n",
       "      <td>2015-01-31</td>\n",
       "      <td>WN</td>\n",
       "      <td>19393</td>\n",
       "      <td>WN</td>\n",
       "      <td>15376</td>\n",
       "      <td>1537602</td>\n",
       "      <td>30436</td>\n",
       "      <td>12892</td>\n",
       "      <td>...</td>\n",
       "      <td>0.0</td>\n",
       "      <td>0.0</td>\n",
       "      <td>1.0</td>\n",
       "      <td>0.0</td>\n",
       "      <td>0.0</td>\n",
       "      <td>0.0</td>\n",
       "      <td>0.0</td>\n",
       "      <td>0.0</td>\n",
       "      <td>1.0</td>\n",
       "      <td>0.0</td>\n",
       "    </tr>\n",
       "    <tr>\n",
       "      <th>469964</th>\n",
       "      <td>31</td>\n",
       "      <td>6</td>\n",
       "      <td>2015-01-31</td>\n",
       "      <td>WN</td>\n",
       "      <td>19393</td>\n",
       "      <td>WN</td>\n",
       "      <td>15376</td>\n",
       "      <td>1537602</td>\n",
       "      <td>30436</td>\n",
       "      <td>12892</td>\n",
       "      <td>...</td>\n",
       "      <td>0.0</td>\n",
       "      <td>0.0</td>\n",
       "      <td>1.0</td>\n",
       "      <td>0.0</td>\n",
       "      <td>0.0</td>\n",
       "      <td>0.0</td>\n",
       "      <td>0.0</td>\n",
       "      <td>0.0</td>\n",
       "      <td>1.0</td>\n",
       "      <td>0.0</td>\n",
       "    </tr>\n",
       "    <tr>\n",
       "      <th>469965</th>\n",
       "      <td>31</td>\n",
       "      <td>6</td>\n",
       "      <td>2015-01-31</td>\n",
       "      <td>WN</td>\n",
       "      <td>19393</td>\n",
       "      <td>WN</td>\n",
       "      <td>15376</td>\n",
       "      <td>1537602</td>\n",
       "      <td>30436</td>\n",
       "      <td>12892</td>\n",
       "      <td>...</td>\n",
       "      <td>0.0</td>\n",
       "      <td>0.0</td>\n",
       "      <td>1.0</td>\n",
       "      <td>0.0</td>\n",
       "      <td>0.0</td>\n",
       "      <td>0.0</td>\n",
       "      <td>0.0</td>\n",
       "      <td>0.0</td>\n",
       "      <td>1.0</td>\n",
       "      <td>0.0</td>\n",
       "    </tr>\n",
       "    <tr>\n",
       "      <th>469966</th>\n",
       "      <td>31</td>\n",
       "      <td>6</td>\n",
       "      <td>2015-01-31</td>\n",
       "      <td>WN</td>\n",
       "      <td>19393</td>\n",
       "      <td>WN</td>\n",
       "      <td>15376</td>\n",
       "      <td>1537602</td>\n",
       "      <td>30436</td>\n",
       "      <td>13232</td>\n",
       "      <td>...</td>\n",
       "      <td>0.0</td>\n",
       "      <td>0.0</td>\n",
       "      <td>1.0</td>\n",
       "      <td>0.0</td>\n",
       "      <td>0.0</td>\n",
       "      <td>0.0</td>\n",
       "      <td>0.0</td>\n",
       "      <td>0.0</td>\n",
       "      <td>1.0</td>\n",
       "      <td>0.0</td>\n",
       "    </tr>\n",
       "    <tr>\n",
       "      <th>469967</th>\n",
       "      <td>31</td>\n",
       "      <td>6</td>\n",
       "      <td>2015-01-31</td>\n",
       "      <td>WN</td>\n",
       "      <td>19393</td>\n",
       "      <td>WN</td>\n",
       "      <td>15376</td>\n",
       "      <td>1537602</td>\n",
       "      <td>30436</td>\n",
       "      <td>14679</td>\n",
       "      <td>...</td>\n",
       "      <td>0.0</td>\n",
       "      <td>0.0</td>\n",
       "      <td>1.0</td>\n",
       "      <td>0.0</td>\n",
       "      <td>0.0</td>\n",
       "      <td>0.0</td>\n",
       "      <td>0.0</td>\n",
       "      <td>0.0</td>\n",
       "      <td>1.0</td>\n",
       "      <td>0.0</td>\n",
       "    </tr>\n",
       "  </tbody>\n",
       "</table>\n",
       "<p>5 rows × 37 columns</p>\n",
       "</div>"
      ],
      "text/plain": [
       "        DAY_OF_MONTH  DAY_OF_WEEK     FL_DATE UNIQUE_CARRIER  AIRLINE_ID  \\\n",
       "469963            31            6  2015-01-31             WN       19393   \n",
       "469964            31            6  2015-01-31             WN       19393   \n",
       "469965            31            6  2015-01-31             WN       19393   \n",
       "469966            31            6  2015-01-31             WN       19393   \n",
       "469967            31            6  2015-01-31             WN       19393   \n",
       "\n",
       "       CARRIER  ORIGIN_AIRPORT_ID  ORIGIN_AIRPORT_SEQ_ID  \\\n",
       "469963      WN              15376                1537602   \n",
       "469964      WN              15376                1537602   \n",
       "469965      WN              15376                1537602   \n",
       "469966      WN              15376                1537602   \n",
       "469967      WN              15376                1537602   \n",
       "\n",
       "        ORIGIN_CITY_MARKET_ID  DEST_AIRPORT_ID  ...    carrier_US  carrier_VX  \\\n",
       "469963                  30436            12892  ...           0.0         0.0   \n",
       "469964                  30436            12892  ...           0.0         0.0   \n",
       "469965                  30436            12892  ...           0.0         0.0   \n",
       "469966                  30436            13232  ...           0.0         0.0   \n",
       "469967                  30436            14679  ...           0.0         0.0   \n",
       "\n",
       "        carrier_WN  DOW_1  DOW_2  DOW_3  DOW_4  DOW_5  DOW_6  DOW_7  \n",
       "469963         1.0    0.0    0.0    0.0    0.0    0.0    1.0    0.0  \n",
       "469964         1.0    0.0    0.0    0.0    0.0    0.0    1.0    0.0  \n",
       "469965         1.0    0.0    0.0    0.0    0.0    0.0    1.0    0.0  \n",
       "469966         1.0    0.0    0.0    0.0    0.0    0.0    1.0    0.0  \n",
       "469967         1.0    0.0    0.0    0.0    0.0    0.0    1.0    0.0  \n",
       "\n",
       "[5 rows x 37 columns]"
      ]
     },
     "execution_count": 15,
     "metadata": {},
     "output_type": "execute_result"
    }
   ],
   "source": [
    "df.tail()"
   ]
  },
  {
   "cell_type": "code",
   "execution_count": 17,
   "metadata": {
    "collapsed": false
   },
   "outputs": [],
   "source": [
    "df = df[df.DEP_DEL15.notnull()]\n",
    "df = df.join(pd.get_dummies(df['CARRIER'], prefix='carrier'))\n",
    "df = df.join(pd.get_dummies(df['AIRLINE_ID'], prefix='AI'))\n",
    "model = lm.LogisticRegression()\n",
    "features = [i for i in df.columns if 'AI_' in i]"
   ]
  },
  {
   "cell_type": "code",
   "execution_count": 18,
   "metadata": {
    "collapsed": false
   },
   "outputs": [
    {
     "data": {
      "text/plain": [
       "(458311, 44)"
      ]
     },
     "execution_count": 18,
     "metadata": {},
     "output_type": "execute_result"
    }
   ],
   "source": [
    "df.shape"
   ]
  },
  {
   "cell_type": "code",
   "execution_count": 19,
   "metadata": {
    "collapsed": false
   },
   "outputs": [],
   "source": [
    "features += ['CRS_DEP_TIME']\n",
    "model.fit(df[features[1:]], df['DEP_DEL15'])\n",
    "\n",
    "df['probability'] = model.predict_proba(df[features[1:]]).T[1]"
   ]
  },
  {
   "cell_type": "code",
   "execution_count": 22,
   "metadata": {
    "collapsed": false
   },
   "outputs": [
    {
     "data": {
      "text/plain": [
       "array([19805, 19930, 20409, 19790, 20366, 20436, 19690, 20398, 20416,\n",
       "       20304, 19977, 20355, 21171, 19393])"
      ]
     },
     "execution_count": 22,
     "metadata": {},
     "output_type": "execute_result"
    }
   ],
   "source": [
    "df['AIRLINE_ID'].unique()"
   ]
  },
  {
   "cell_type": "code",
   "execution_count": 23,
   "metadata": {
    "collapsed": false
   },
   "outputs": [
    {
     "data": {
      "text/plain": [
       "[<matplotlib.text.Text at 0x114ed5898>]"
      ]
     },
     "execution_count": 23,
     "metadata": {},
     "output_type": "execute_result"
    },
    {
     "data": {
      "image/png": "iVBORw0KGgoAAAANSUhEUgAAAgEAAAF4CAYAAADNIyr1AAAABHNCSVQICAgIfAhkiAAAAAlwSFlz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\nTkSuQmCC\n",
      "text/plain": [
       "<matplotlib.figure.Figure at 0x116a8ee48>"
      ]
     },
     "metadata": {},
     "output_type": "display_data"
    }
   ],
   "source": [
    "ax = plt.subplot(111)\n",
    "colors = ['blue', 'green', 'red', 'purple', 'orange', 'brown', 'yellow']\n",
    "for e, c in enumerate(colors):\n",
    "    df[df[features[e]] == 1].plot(x='CRS_DEP_TIME', y='probability', kind='scatter', color = c, ax=ax)\n",
    "\n",
    "ax.set(title='Probability of Delay\\n Based on Airline ID')\n"
   ]
  },
  {
   "cell_type": "markdown",
   "metadata": {},
   "source": [
    "### Other Answers: visualizing Airline or the inverse"
   ]
  },
  {
   "cell_type": "code",
   "execution_count": 8,
   "metadata": {
    "collapsed": false
   },
   "outputs": [],
   "source": [
    "features = [i for i in df.columns if 'carrier_' in i]\n",
    "features += ['CRS_DEP_TIME']\n",
    "#..."
   ]
  },
  {
   "cell_type": "code",
   "execution_count": null,
   "metadata": {
    "collapsed": false
   },
   "outputs": [],
   "source": []
  },
  {
   "cell_type": "markdown",
   "metadata": {},
   "source": [
    "### Visualizing Performance Against Baseline"
   ]
  },
  {
   "cell_type": "markdown",
   "metadata": {},
   "source": [
    "#### Visualizing AUC and comparing Models"
   ]
  },
  {
   "cell_type": "code",
   "execution_count": 16,
   "metadata": {
    "collapsed": true
   },
   "outputs": [],
   "source": [
    "from sklearn import dummy, metrics"
   ]
  },
  {
   "cell_type": "code",
   "execution_count": 20,
   "metadata": {
    "collapsed": false
   },
   "outputs": [],
   "source": [
    "model0 = dummy.DummyClassifier()\n",
    "model0.fit(df[features[1:]], df['DEP_DEL15'])\n",
    "df['probability_0'] = model0.predict_proba(df[features[1:]]).T[1]\n",
    "\n",
    "model1 = lm.LogisticRegression()\n",
    "model.fit(df[features[1:]], df['DEP_DEL15'])\n",
    "df['probability_1'] = model.predict_proba(df[features[1:]]).T[1]\n"
   ]
  },
  {
   "cell_type": "code",
   "execution_count": null,
   "metadata": {
    "collapsed": false
   },
   "outputs": [],
   "source": [
    "df.shape"
   ]
  },
  {
   "cell_type": "code",
   "execution_count": 21,
   "metadata": {
    "collapsed": false
   },
   "outputs": [
    {
     "data": {
      "text/plain": [
       "[<matplotlib.text.Text at 0x10b8d5650>,\n",
       " <matplotlib.text.Text at 0x108ea2250>,\n",
       " (0, 1),\n",
       " (0, 1),\n",
       " <matplotlib.text.Text at 0x109140250>]"
      ]
     },
     "execution_count": 21,
     "metadata": {},
     "output_type": "execute_result"
    },
    {
     "data": {
      "image/png": "iVBORw0KGgoAAAANSUhEUgAAAXcAAAEKCAYAAADpfBXhAAAABHNCSVQICAgIfAhkiAAAAAlwSFlz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\nIYQX+r9ummZj3YtnDQAAAABJRU5ErkJggg==\n",
      "text/plain": [
       "<matplotlib.figure.Figure at 0x10a36c290>"
      ]
     },
     "metadata": {},
     "output_type": "display_data"
    }
   ],
   "source": [
    "ax = plt.subplot(111)\n",
    "vals = metrics.roc_curve(df.DEP_DEL15, df.probability_0)\n",
    "ax.plot(vals[0], vals[1])\n",
    "vals = metrics.roc_curve(df.DEP_DEL15, df.probability_1)\n",
    "ax.plot(vals[0], vals[1])\n",
    "\n",
    "ax.set(title='Area Under the Curve for prediction delayed=1', ylabel='', xlabel='', xlim=(0, 1), ylim=(0, 1))"
   ]
  },
  {
   "cell_type": "markdown",
   "metadata": {},
   "source": [
    "#### Visualizing Precision / Recall"
   ]
  },
  {
   "cell_type": "code",
   "execution_count": null,
   "metadata": {
    "collapsed": true
   },
   "outputs": [],
   "source": []
  }
 ],
 "metadata": {
  "kernelspec": {
   "display_name": "Python [Root]",
   "language": "python",
   "name": "Python [Root]"
  },
  "language_info": {
   "codemirror_mode": {
    "name": "ipython",
    "version": 3
   },
   "file_extension": ".py",
   "mimetype": "text/x-python",
   "name": "python",
   "nbconvert_exporter": "python",
<<<<<<< HEAD
   "pygments_lexer": "ipython3",
   "version": "3.5.2"
=======
   "pygments_lexer": "ipython2",
   "version": "2.7.12"
>>>>>>> 7f86e45cb4beee57ae36f2ea9cc7a5c17929745f
  }
 },
 "nbformat": 4,
 "nbformat_minor": 0
}
