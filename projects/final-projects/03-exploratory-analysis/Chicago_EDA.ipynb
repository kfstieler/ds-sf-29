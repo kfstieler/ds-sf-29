{
 "cells": [
  {
   "cell_type": "code",
   "execution_count": 111,
   "metadata": {
    "collapsed": true
   },
   "outputs": [],
   "source": [
    "import pandas as pd\n",
    "import numpy as np\n",
    "import datetime\n",
    "import matplotlib.pyplot as plt\n",
    "%matplotlib inline\n",
    "import calendar"
   ]
  },
  {
   "cell_type": "markdown",
   "metadata": {},
   "source": [
    "# City of Chicago Crime Data 2001 to Present \n",
    "## Domestic Violence Incidents by Day, Week, Month, Day of the Week and Year"
   ]
  },
  {
   "cell_type": "markdown",
   "metadata": {},
   "source": [
    "### Step 1: Read in Dataset from City of Chicago Data Portal"
   ]
  },
  {
   "cell_type": "code",
   "execution_count": 112,
   "metadata": {
    "collapsed": false
   },
   "outputs": [
    {
     "data": {
      "text/html": [
       "<div>\n",
       "<table border=\"1\" class=\"dataframe\">\n",
       "  <thead>\n",
       "    <tr style=\"text-align: right;\">\n",
       "      <th></th>\n",
       "      <th>Date</th>\n",
       "      <th>Domestic</th>\n",
       "      <th>Year</th>\n",
       "    </tr>\n",
       "  </thead>\n",
       "  <tbody>\n",
       "    <tr>\n",
       "      <th>0</th>\n",
       "      <td>03/21/2006 07:40:00 AM</td>\n",
       "      <td>True</td>\n",
       "      <td>2006</td>\n",
       "    </tr>\n",
       "    <tr>\n",
       "      <th>1</th>\n",
       "      <td>03/22/2006 11:42:00 AM</td>\n",
       "      <td>True</td>\n",
       "      <td>2006</td>\n",
       "    </tr>\n",
       "    <tr>\n",
       "      <th>2</th>\n",
       "      <td>03/21/2006 06:00:00 PM</td>\n",
       "      <td>True</td>\n",
       "      <td>2006</td>\n",
       "    </tr>\n",
       "    <tr>\n",
       "      <th>3</th>\n",
       "      <td>03/20/2006 07:00:00 PM</td>\n",
       "      <td>True</td>\n",
       "      <td>2006</td>\n",
       "    </tr>\n",
       "    <tr>\n",
       "      <th>4</th>\n",
       "      <td>03/19/2006 07:00:00 PM</td>\n",
       "      <td>True</td>\n",
       "      <td>2006</td>\n",
       "    </tr>\n",
       "  </tbody>\n",
       "</table>\n",
       "</div>"
      ],
      "text/plain": [
       "                     Date Domestic  Year\n",
       "0  03/21/2006 07:40:00 AM     True  2006\n",
       "1  03/22/2006 11:42:00 AM     True  2006\n",
       "2  03/21/2006 06:00:00 PM     True  2006\n",
       "3  03/20/2006 07:00:00 PM     True  2006\n",
       "4  03/19/2006 07:00:00 PM     True  2006"
      ]
     },
     "execution_count": 112,
     "metadata": {},
     "output_type": "execute_result"
    }
   ],
   "source": [
    "data = pd.read_csv(\"/Users/sachinkelkar/desktop/ds-sf-29/data/Crimes_-_2001_to_present.csv\")\n",
    "data.head()"
   ]
  },
  {
   "cell_type": "markdown",
   "metadata": {},
   "source": [
    "### Step 2: Obtain index range and column names and verify if the dataset contains any null values."
   ]
  },
  {
   "cell_type": "code",
   "execution_count": 113,
   "metadata": {
    "collapsed": false
   },
   "outputs": [
    {
     "data": {
      "text/plain": [
       "Date        0\n",
       "Domestic    0\n",
       "Year        0\n",
       "dtype: int64"
      ]
     },
     "execution_count": 113,
     "metadata": {},
     "output_type": "execute_result"
    }
   ],
   "source": [
    "pd.isnull(data).sum()"
   ]
  },
  {
   "cell_type": "code",
   "execution_count": 114,
   "metadata": {
    "collapsed": false
   },
   "outputs": [
    {
     "data": {
      "text/plain": [
       "(803355, 3)"
      ]
     },
     "execution_count": 114,
     "metadata": {},
     "output_type": "execute_result"
    }
   ],
   "source": [
    "data.shape"
   ]
  },
  {
   "cell_type": "code",
   "execution_count": 115,
   "metadata": {
    "collapsed": false
   },
   "outputs": [
    {
     "data": {
      "text/plain": [
       "RangeIndex(start=0, stop=803355, step=1)"
      ]
     },
     "execution_count": 115,
     "metadata": {},
     "output_type": "execute_result"
    }
   ],
   "source": [
    "data.index "
   ]
  },
  {
   "cell_type": "code",
   "execution_count": 116,
   "metadata": {
    "collapsed": false
   },
   "outputs": [
    {
     "data": {
      "text/plain": [
       "['Date', 'Domestic', 'Year']"
      ]
     },
     "execution_count": 116,
     "metadata": {},
     "output_type": "execute_result"
    }
   ],
   "source": [
    "data.columns.tolist()"
   ]
  },
  {
   "cell_type": "markdown",
   "metadata": {},
   "source": [
    "### Step 3: Format dates: Drop time from \"Date\" and transform \"Date\" column into datetime.  Delete \"Year\" column"
   ]
  },
  {
   "cell_type": "code",
   "execution_count": 117,
   "metadata": {
    "collapsed": false
   },
   "outputs": [],
   "source": [
    "data['Date'] = pd.to_datetime(data['Date']).dt.date"
   ]
  },
  {
   "cell_type": "code",
   "execution_count": 118,
   "metadata": {
    "collapsed": false
   },
   "outputs": [
    {
     "data": {
      "text/html": [
       "<div>\n",
       "<table border=\"1\" class=\"dataframe\">\n",
       "  <thead>\n",
       "    <tr style=\"text-align: right;\">\n",
       "      <th></th>\n",
       "      <th>Date</th>\n",
       "      <th>Domestic</th>\n",
       "      <th>Year</th>\n",
       "    </tr>\n",
       "  </thead>\n",
       "  <tbody>\n",
       "    <tr>\n",
       "      <th>0</th>\n",
       "      <td>2006-03-21</td>\n",
       "      <td>True</td>\n",
       "      <td>2006</td>\n",
       "    </tr>\n",
       "    <tr>\n",
       "      <th>1</th>\n",
       "      <td>2006-03-22</td>\n",
       "      <td>True</td>\n",
       "      <td>2006</td>\n",
       "    </tr>\n",
       "    <tr>\n",
       "      <th>2</th>\n",
       "      <td>2006-03-21</td>\n",
       "      <td>True</td>\n",
       "      <td>2006</td>\n",
       "    </tr>\n",
       "    <tr>\n",
       "      <th>3</th>\n",
       "      <td>2006-03-20</td>\n",
       "      <td>True</td>\n",
       "      <td>2006</td>\n",
       "    </tr>\n",
       "    <tr>\n",
       "      <th>4</th>\n",
       "      <td>2006-03-19</td>\n",
       "      <td>True</td>\n",
       "      <td>2006</td>\n",
       "    </tr>\n",
       "  </tbody>\n",
       "</table>\n",
       "</div>"
      ],
      "text/plain": [
       "         Date Domestic  Year\n",
       "0  2006-03-21     True  2006\n",
       "1  2006-03-22     True  2006\n",
       "2  2006-03-21     True  2006\n",
       "3  2006-03-20     True  2006\n",
       "4  2006-03-19     True  2006"
      ]
     },
     "execution_count": 118,
     "metadata": {},
     "output_type": "execute_result"
    }
   ],
   "source": [
    "data.head()"
   ]
  },
  {
   "cell_type": "code",
   "execution_count": 119,
   "metadata": {
    "collapsed": true
   },
   "outputs": [],
   "source": [
    "del data['Year']"
   ]
  },
  {
   "cell_type": "code",
   "execution_count": 120,
   "metadata": {
    "collapsed": false
   },
   "outputs": [],
   "source": [
    "data['Date'] = pd.to_datetime(data.Date)"
   ]
  },
  {
   "cell_type": "code",
   "execution_count": 121,
   "metadata": {
    "collapsed": false
   },
   "outputs": [
    {
     "data": {
      "text/plain": [
       "Date        datetime64[ns]\n",
       "Domestic              bool\n",
       "dtype: object"
      ]
     },
     "execution_count": 121,
     "metadata": {},
     "output_type": "execute_result"
    }
   ],
   "source": [
    "data.dtypes"
   ]
  },
  {
   "cell_type": "markdown",
   "metadata": {},
   "source": [
    "### Step 4: Create \"Day of Week\", \"Month\" and \"Year\" Columns "
   ]
  },
  {
   "cell_type": "code",
   "execution_count": 141,
   "metadata": {
    "collapsed": false
   },
   "outputs": [],
   "source": [
    "data['day_of_week'] = data['Date'].dt.dayofweek"
   ]
  },
  {
   "cell_type": "code",
   "execution_count": 125,
   "metadata": {
    "collapsed": false
   },
   "outputs": [],
   "source": [
    "data['Month'] = data['Date'].dt.month"
   ]
  },
  {
   "cell_type": "code",
   "execution_count": 126,
   "metadata": {
    "collapsed": true
   },
   "outputs": [],
   "source": [
    "data['Year'] = data['Date'].dt.year"
   ]
  },
  {
   "cell_type": "code",
   "execution_count": 127,
   "metadata": {
    "collapsed": true
   },
   "outputs": [],
   "source": [
    "data['Day'] = data['Date'].dt.day"
   ]
  },
  {
   "cell_type": "code",
   "execution_count": 128,
   "metadata": {
    "collapsed": true
   },
   "outputs": [],
   "source": [
    "data.Domestic = data.Domestic.astype(int)"
   ]
  },
  {
   "cell_type": "code",
   "execution_count": 142,
   "metadata": {
    "collapsed": false
   },
   "outputs": [
    {
     "data": {
      "text/html": [
       "<div>\n",
       "<table border=\"1\" class=\"dataframe\">\n",
       "  <thead>\n",
       "    <tr style=\"text-align: right;\">\n",
       "      <th></th>\n",
       "      <th>Date</th>\n",
       "      <th>Domestic</th>\n",
       "      <th>day_of_week</th>\n",
       "      <th>Month</th>\n",
       "      <th>Year</th>\n",
       "      <th>Day</th>\n",
       "    </tr>\n",
       "  </thead>\n",
       "  <tbody>\n",
       "    <tr>\n",
       "      <th>0</th>\n",
       "      <td>2006-03-21</td>\n",
       "      <td>1</td>\n",
       "      <td>1</td>\n",
       "      <td>3</td>\n",
       "      <td>2006</td>\n",
       "      <td>21</td>\n",
       "    </tr>\n",
       "    <tr>\n",
       "      <th>1</th>\n",
       "      <td>2006-03-22</td>\n",
       "      <td>1</td>\n",
       "      <td>2</td>\n",
       "      <td>3</td>\n",
       "      <td>2006</td>\n",
       "      <td>22</td>\n",
       "    </tr>\n",
       "    <tr>\n",
       "      <th>2</th>\n",
       "      <td>2006-03-21</td>\n",
       "      <td>1</td>\n",
       "      <td>1</td>\n",
       "      <td>3</td>\n",
       "      <td>2006</td>\n",
       "      <td>21</td>\n",
       "    </tr>\n",
       "    <tr>\n",
       "      <th>3</th>\n",
       "      <td>2006-03-20</td>\n",
       "      <td>1</td>\n",
       "      <td>0</td>\n",
       "      <td>3</td>\n",
       "      <td>2006</td>\n",
       "      <td>20</td>\n",
       "    </tr>\n",
       "    <tr>\n",
       "      <th>4</th>\n",
       "      <td>2006-03-19</td>\n",
       "      <td>1</td>\n",
       "      <td>6</td>\n",
       "      <td>3</td>\n",
       "      <td>2006</td>\n",
       "      <td>19</td>\n",
       "    </tr>\n",
       "  </tbody>\n",
       "</table>\n",
       "</div>"
      ],
      "text/plain": [
       "        Date  Domestic  day_of_week  Month  Year  Day\n",
       "0 2006-03-21         1            1      3  2006   21\n",
       "1 2006-03-22         1            2      3  2006   22\n",
       "2 2006-03-21         1            1      3  2006   21\n",
       "3 2006-03-20         1            0      3  2006   20\n",
       "4 2006-03-19         1            6      3  2006   19"
      ]
     },
     "execution_count": 142,
     "metadata": {},
     "output_type": "execute_result"
    }
   ],
   "source": [
    "data.head()"
   ]
  },
  {
   "cell_type": "markdown",
   "metadata": {},
   "source": [
    "### Step 5: Create Train Set by setting aside 2014 - Present data.  Obtain shape.\n",
    "\n",
    "#### There are 679125 observations in the Train dataset."
   ]
  },
  {
   "cell_type": "code",
   "execution_count": 145,
   "metadata": {
    "collapsed": false
   },
   "outputs": [],
   "source": [
    "train = (data['Date'] >= '2001-01-01') & (data['Date'] <= '2013-12-31')"
   ]
  },
  {
   "cell_type": "code",
   "execution_count": 146,
   "metadata": {
    "collapsed": false
   },
   "outputs": [],
   "source": [
    "ts = data.loc[train]"
   ]
  },
  {
   "cell_type": "code",
   "execution_count": 147,
   "metadata": {
    "collapsed": false
   },
   "outputs": [
    {
     "data": {
      "text/html": [
       "<div>\n",
       "<table border=\"1\" class=\"dataframe\">\n",
       "  <thead>\n",
       "    <tr style=\"text-align: right;\">\n",
       "      <th></th>\n",
       "      <th>Date</th>\n",
       "      <th>Domestic</th>\n",
       "      <th>day_of_week</th>\n",
       "      <th>Month</th>\n",
       "      <th>Year</th>\n",
       "      <th>Day</th>\n",
       "    </tr>\n",
       "  </thead>\n",
       "  <tbody>\n",
       "    <tr>\n",
       "      <th>0</th>\n",
       "      <td>2006-03-21</td>\n",
       "      <td>1</td>\n",
       "      <td>1</td>\n",
       "      <td>3</td>\n",
       "      <td>2006</td>\n",
       "      <td>21</td>\n",
       "    </tr>\n",
       "    <tr>\n",
       "      <th>1</th>\n",
       "      <td>2006-03-22</td>\n",
       "      <td>1</td>\n",
       "      <td>2</td>\n",
       "      <td>3</td>\n",
       "      <td>2006</td>\n",
       "      <td>22</td>\n",
       "    </tr>\n",
       "    <tr>\n",
       "      <th>2</th>\n",
       "      <td>2006-03-21</td>\n",
       "      <td>1</td>\n",
       "      <td>1</td>\n",
       "      <td>3</td>\n",
       "      <td>2006</td>\n",
       "      <td>21</td>\n",
       "    </tr>\n",
       "    <tr>\n",
       "      <th>3</th>\n",
       "      <td>2006-03-20</td>\n",
       "      <td>1</td>\n",
       "      <td>0</td>\n",
       "      <td>3</td>\n",
       "      <td>2006</td>\n",
       "      <td>20</td>\n",
       "    </tr>\n",
       "    <tr>\n",
       "      <th>4</th>\n",
       "      <td>2006-03-19</td>\n",
       "      <td>1</td>\n",
       "      <td>6</td>\n",
       "      <td>3</td>\n",
       "      <td>2006</td>\n",
       "      <td>19</td>\n",
       "    </tr>\n",
       "  </tbody>\n",
       "</table>\n",
       "</div>"
      ],
      "text/plain": [
       "        Date  Domestic  day_of_week  Month  Year  Day\n",
       "0 2006-03-21         1            1      3  2006   21\n",
       "1 2006-03-22         1            2      3  2006   22\n",
       "2 2006-03-21         1            1      3  2006   21\n",
       "3 2006-03-20         1            0      3  2006   20\n",
       "4 2006-03-19         1            6      3  2006   19"
      ]
     },
     "execution_count": 147,
     "metadata": {},
     "output_type": "execute_result"
    }
   ],
   "source": [
    "ts.head()"
   ]
  },
  {
   "cell_type": "code",
   "execution_count": 151,
   "metadata": {
    "collapsed": false
   },
   "outputs": [
    {
     "data": {
      "text/plain": [
       "(679125, 6)"
      ]
     },
     "execution_count": 151,
     "metadata": {},
     "output_type": "execute_result"
    }
   ],
   "source": [
    "ts.shape"
   ]
  },
  {
   "cell_type": "code",
   "execution_count": 152,
   "metadata": {
    "collapsed": false
   },
   "outputs": [
    {
     "data": {
      "text/plain": [
       "Date           datetime64[ns]\n",
       "Domestic                int64\n",
       "day_of_week             int64\n",
       "Month                   int64\n",
       "Year                    int64\n",
       "Day                     int64\n",
       "dtype: object"
      ]
     },
     "execution_count": 152,
     "metadata": {},
     "output_type": "execute_result"
    }
   ],
   "source": [
    "ts.dtypes"
   ]
  },
  {
   "cell_type": "markdown",
   "metadata": {},
   "source": [
    "### Step 6: Crosstab Day of Week and Year - Describe, Visualize\n",
    "#### Saturday and Sunday have above average number of incidents compared to other days of the week, in all 14 years."
   ]
  },
  {
   "cell_type": "code",
   "execution_count": 148,
   "metadata": {
    "collapsed": false
   },
   "outputs": [
    {
     "data": {
      "text/html": [
       "<div>\n",
       "<table border=\"1\" class=\"dataframe\">\n",
       "  <thead>\n",
       "    <tr style=\"text-align: right;\">\n",
       "      <th>Year</th>\n",
       "      <th>2001</th>\n",
       "      <th>2002</th>\n",
       "      <th>2003</th>\n",
       "      <th>2004</th>\n",
       "      <th>2005</th>\n",
       "      <th>2006</th>\n",
       "      <th>2007</th>\n",
       "      <th>2008</th>\n",
       "      <th>2009</th>\n",
       "      <th>2010</th>\n",
       "      <th>2011</th>\n",
       "      <th>2012</th>\n",
       "      <th>2013</th>\n",
       "    </tr>\n",
       "    <tr>\n",
       "      <th>day_of_week</th>\n",
       "      <th></th>\n",
       "      <th></th>\n",
       "      <th></th>\n",
       "      <th></th>\n",
       "      <th></th>\n",
       "      <th></th>\n",
       "      <th></th>\n",
       "      <th></th>\n",
       "      <th></th>\n",
       "      <th></th>\n",
       "      <th></th>\n",
       "      <th></th>\n",
       "      <th></th>\n",
       "    </tr>\n",
       "  </thead>\n",
       "  <tbody>\n",
       "    <tr>\n",
       "      <th>0</th>\n",
       "      <td>8301</td>\n",
       "      <td>8371</td>\n",
       "      <td>7350</td>\n",
       "      <td>7373</td>\n",
       "      <td>7148</td>\n",
       "      <td>7000</td>\n",
       "      <td>7165</td>\n",
       "      <td>6673</td>\n",
       "      <td>7284</td>\n",
       "      <td>7076</td>\n",
       "      <td>6874</td>\n",
       "      <td>6760</td>\n",
       "      <td>6135</td>\n",
       "    </tr>\n",
       "    <tr>\n",
       "      <th>1</th>\n",
       "      <td>7691</td>\n",
       "      <td>8331</td>\n",
       "      <td>7163</td>\n",
       "      <td>7046</td>\n",
       "      <td>6595</td>\n",
       "      <td>6731</td>\n",
       "      <td>6609</td>\n",
       "      <td>6711</td>\n",
       "      <td>7011</td>\n",
       "      <td>7015</td>\n",
       "      <td>6598</td>\n",
       "      <td>6535</td>\n",
       "      <td>5999</td>\n",
       "    </tr>\n",
       "    <tr>\n",
       "      <th>2</th>\n",
       "      <td>7723</td>\n",
       "      <td>7985</td>\n",
       "      <td>7257</td>\n",
       "      <td>7107</td>\n",
       "      <td>6561</td>\n",
       "      <td>6762</td>\n",
       "      <td>6735</td>\n",
       "      <td>6517</td>\n",
       "      <td>7045</td>\n",
       "      <td>6869</td>\n",
       "      <td>6267</td>\n",
       "      <td>6517</td>\n",
       "      <td>5923</td>\n",
       "    </tr>\n",
       "    <tr>\n",
       "      <th>3</th>\n",
       "      <td>7517</td>\n",
       "      <td>7982</td>\n",
       "      <td>6919</td>\n",
       "      <td>7408</td>\n",
       "      <td>6401</td>\n",
       "      <td>6622</td>\n",
       "      <td>6573</td>\n",
       "      <td>6548</td>\n",
       "      <td>7163</td>\n",
       "      <td>6906</td>\n",
       "      <td>6379</td>\n",
       "      <td>6298</td>\n",
       "      <td>5869</td>\n",
       "    </tr>\n",
       "    <tr>\n",
       "      <th>4</th>\n",
       "      <td>7991</td>\n",
       "      <td>8524</td>\n",
       "      <td>7300</td>\n",
       "      <td>7746</td>\n",
       "      <td>6985</td>\n",
       "      <td>6986</td>\n",
       "      <td>6890</td>\n",
       "      <td>7046</td>\n",
       "      <td>7341</td>\n",
       "      <td>7435</td>\n",
       "      <td>6883</td>\n",
       "      <td>6577</td>\n",
       "      <td>6120</td>\n",
       "    </tr>\n",
       "    <tr>\n",
       "      <th>5</th>\n",
       "      <td>9735</td>\n",
       "      <td>9939</td>\n",
       "      <td>8856</td>\n",
       "      <td>8663</td>\n",
       "      <td>8395</td>\n",
       "      <td>8282</td>\n",
       "      <td>8254</td>\n",
       "      <td>8403</td>\n",
       "      <td>8345</td>\n",
       "      <td>7974</td>\n",
       "      <td>8201</td>\n",
       "      <td>7541</td>\n",
       "      <td>7145</td>\n",
       "    </tr>\n",
       "    <tr>\n",
       "      <th>6</th>\n",
       "      <td>9728</td>\n",
       "      <td>10054</td>\n",
       "      <td>8975</td>\n",
       "      <td>9118</td>\n",
       "      <td>8637</td>\n",
       "      <td>8918</td>\n",
       "      <td>8699</td>\n",
       "      <td>8550</td>\n",
       "      <td>8758</td>\n",
       "      <td>8528</td>\n",
       "      <td>8263</td>\n",
       "      <td>8294</td>\n",
       "      <td>7648</td>\n",
       "    </tr>\n",
       "  </tbody>\n",
       "</table>\n",
       "</div>"
      ],
      "text/plain": [
       "Year         2001   2002  2003  2004  2005  2006  2007  2008  2009  2010  \\\n",
       "day_of_week                                                                \n",
       "0            8301   8371  7350  7373  7148  7000  7165  6673  7284  7076   \n",
       "1            7691   8331  7163  7046  6595  6731  6609  6711  7011  7015   \n",
       "2            7723   7985  7257  7107  6561  6762  6735  6517  7045  6869   \n",
       "3            7517   7982  6919  7408  6401  6622  6573  6548  7163  6906   \n",
       "4            7991   8524  7300  7746  6985  6986  6890  7046  7341  7435   \n",
       "5            9735   9939  8856  8663  8395  8282  8254  8403  8345  7974   \n",
       "6            9728  10054  8975  9118  8637  8918  8699  8550  8758  8528   \n",
       "\n",
       "Year         2011  2012  2013  \n",
       "day_of_week                    \n",
       "0            6874  6760  6135  \n",
       "1            6598  6535  5999  \n",
       "2            6267  6517  5923  \n",
       "3            6379  6298  5869  \n",
       "4            6883  6577  6120  \n",
       "5            8201  7541  7145  \n",
       "6            8263  8294  7648  "
      ]
     },
     "execution_count": 148,
     "metadata": {},
     "output_type": "execute_result"
    }
   ],
   "source": [
    "DoWYear = pd.crosstab(ts['day_of_week'], ts['Year'], rownames=['day_of_week'])\n",
    "DoWYear"
   ]
  },
  {
   "cell_type": "code",
   "execution_count": 153,
   "metadata": {
    "collapsed": false
   },
   "outputs": [
    {
     "data": {
      "text/html": [
       "<div>\n",
       "<table border=\"1\" class=\"dataframe\">\n",
       "  <thead>\n",
       "    <tr style=\"text-align: right;\">\n",
       "      <th>Year</th>\n",
       "      <th>2001</th>\n",
       "      <th>2002</th>\n",
       "      <th>2003</th>\n",
       "      <th>2004</th>\n",
       "      <th>2005</th>\n",
       "      <th>2006</th>\n",
       "      <th>2007</th>\n",
       "      <th>2008</th>\n",
       "      <th>2009</th>\n",
       "      <th>2010</th>\n",
       "      <th>2011</th>\n",
       "      <th>2012</th>\n",
       "      <th>2013</th>\n",
       "    </tr>\n",
       "  </thead>\n",
       "  <tbody>\n",
       "    <tr>\n",
       "      <th>count</th>\n",
       "      <td>7.000000</td>\n",
       "      <td>7.000000</td>\n",
       "      <td>7.000000</td>\n",
       "      <td>7.000000</td>\n",
       "      <td>7.000000</td>\n",
       "      <td>7.000000</td>\n",
       "      <td>7.000000</td>\n",
       "      <td>7.000000</td>\n",
       "      <td>7.000000</td>\n",
       "      <td>7.000000</td>\n",
       "      <td>7.000000</td>\n",
       "      <td>7.000000</td>\n",
       "      <td>7.000000</td>\n",
       "    </tr>\n",
       "    <tr>\n",
       "      <th>mean</th>\n",
       "      <td>8383.714286</td>\n",
       "      <td>8740.857143</td>\n",
       "      <td>7688.571429</td>\n",
       "      <td>7780.142857</td>\n",
       "      <td>7246.000000</td>\n",
       "      <td>7328.714286</td>\n",
       "      <td>7275.000000</td>\n",
       "      <td>7206.857143</td>\n",
       "      <td>7563.857143</td>\n",
       "      <td>7400.428571</td>\n",
       "      <td>7066.428571</td>\n",
       "      <td>6931.714286</td>\n",
       "      <td>6405.571429</td>\n",
       "    </tr>\n",
       "    <tr>\n",
       "      <th>std</th>\n",
       "      <td>954.090617</td>\n",
       "      <td>881.180918</td>\n",
       "      <td>850.306387</td>\n",
       "      <td>802.787525</td>\n",
       "      <td>907.364131</td>\n",
       "      <td>897.957073</td>\n",
       "      <td>853.863963</td>\n",
       "      <td>885.206083</td>\n",
       "      <td>695.185450</td>\n",
       "      <td>630.116618</td>\n",
       "      <td>828.731934</td>\n",
       "      <td>720.338280</td>\n",
       "      <td>698.954900</td>\n",
       "    </tr>\n",
       "    <tr>\n",
       "      <th>min</th>\n",
       "      <td>7517.000000</td>\n",
       "      <td>7982.000000</td>\n",
       "      <td>6919.000000</td>\n",
       "      <td>7046.000000</td>\n",
       "      <td>6401.000000</td>\n",
       "      <td>6622.000000</td>\n",
       "      <td>6573.000000</td>\n",
       "      <td>6517.000000</td>\n",
       "      <td>7011.000000</td>\n",
       "      <td>6869.000000</td>\n",
       "      <td>6267.000000</td>\n",
       "      <td>6298.000000</td>\n",
       "      <td>5869.000000</td>\n",
       "    </tr>\n",
       "    <tr>\n",
       "      <th>25%</th>\n",
       "      <td>7707.000000</td>\n",
       "      <td>8158.000000</td>\n",
       "      <td>7210.000000</td>\n",
       "      <td>7240.000000</td>\n",
       "      <td>6578.000000</td>\n",
       "      <td>6746.500000</td>\n",
       "      <td>6672.000000</td>\n",
       "      <td>6610.500000</td>\n",
       "      <td>7104.000000</td>\n",
       "      <td>6960.500000</td>\n",
       "      <td>6488.500000</td>\n",
       "      <td>6526.000000</td>\n",
       "      <td>5961.000000</td>\n",
       "    </tr>\n",
       "    <tr>\n",
       "      <th>50%</th>\n",
       "      <td>7991.000000</td>\n",
       "      <td>8371.000000</td>\n",
       "      <td>7300.000000</td>\n",
       "      <td>7408.000000</td>\n",
       "      <td>6985.000000</td>\n",
       "      <td>6986.000000</td>\n",
       "      <td>6890.000000</td>\n",
       "      <td>6711.000000</td>\n",
       "      <td>7284.000000</td>\n",
       "      <td>7076.000000</td>\n",
       "      <td>6874.000000</td>\n",
       "      <td>6577.000000</td>\n",
       "      <td>6120.000000</td>\n",
       "    </tr>\n",
       "    <tr>\n",
       "      <th>75%</th>\n",
       "      <td>9014.500000</td>\n",
       "      <td>9231.500000</td>\n",
       "      <td>8103.000000</td>\n",
       "      <td>8204.500000</td>\n",
       "      <td>7771.500000</td>\n",
       "      <td>7641.000000</td>\n",
       "      <td>7709.500000</td>\n",
       "      <td>7724.500000</td>\n",
       "      <td>7843.000000</td>\n",
       "      <td>7704.500000</td>\n",
       "      <td>7542.000000</td>\n",
       "      <td>7150.500000</td>\n",
       "      <td>6640.000000</td>\n",
       "    </tr>\n",
       "    <tr>\n",
       "      <th>max</th>\n",
       "      <td>9735.000000</td>\n",
       "      <td>10054.000000</td>\n",
       "      <td>8975.000000</td>\n",
       "      <td>9118.000000</td>\n",
       "      <td>8637.000000</td>\n",
       "      <td>8918.000000</td>\n",
       "      <td>8699.000000</td>\n",
       "      <td>8550.000000</td>\n",
       "      <td>8758.000000</td>\n",
       "      <td>8528.000000</td>\n",
       "      <td>8263.000000</td>\n",
       "      <td>8294.000000</td>\n",
       "      <td>7648.000000</td>\n",
       "    </tr>\n",
       "  </tbody>\n",
       "</table>\n",
       "</div>"
      ],
      "text/plain": [
       "Year          2001          2002         2003         2004         2005  \\\n",
       "count     7.000000      7.000000     7.000000     7.000000     7.000000   \n",
       "mean   8383.714286   8740.857143  7688.571429  7780.142857  7246.000000   \n",
       "std     954.090617    881.180918   850.306387   802.787525   907.364131   \n",
       "min    7517.000000   7982.000000  6919.000000  7046.000000  6401.000000   \n",
       "25%    7707.000000   8158.000000  7210.000000  7240.000000  6578.000000   \n",
       "50%    7991.000000   8371.000000  7300.000000  7408.000000  6985.000000   \n",
       "75%    9014.500000   9231.500000  8103.000000  8204.500000  7771.500000   \n",
       "max    9735.000000  10054.000000  8975.000000  9118.000000  8637.000000   \n",
       "\n",
       "Year          2006         2007         2008         2009         2010  \\\n",
       "count     7.000000     7.000000     7.000000     7.000000     7.000000   \n",
       "mean   7328.714286  7275.000000  7206.857143  7563.857143  7400.428571   \n",
       "std     897.957073   853.863963   885.206083   695.185450   630.116618   \n",
       "min    6622.000000  6573.000000  6517.000000  7011.000000  6869.000000   \n",
       "25%    6746.500000  6672.000000  6610.500000  7104.000000  6960.500000   \n",
       "50%    6986.000000  6890.000000  6711.000000  7284.000000  7076.000000   \n",
       "75%    7641.000000  7709.500000  7724.500000  7843.000000  7704.500000   \n",
       "max    8918.000000  8699.000000  8550.000000  8758.000000  8528.000000   \n",
       "\n",
       "Year          2011         2012         2013  \n",
       "count     7.000000     7.000000     7.000000  \n",
       "mean   7066.428571  6931.714286  6405.571429  \n",
       "std     828.731934   720.338280   698.954900  \n",
       "min    6267.000000  6298.000000  5869.000000  \n",
       "25%    6488.500000  6526.000000  5961.000000  \n",
       "50%    6874.000000  6577.000000  6120.000000  \n",
       "75%    7542.000000  7150.500000  6640.000000  \n",
       "max    8263.000000  8294.000000  7648.000000  "
      ]
     },
     "execution_count": 153,
     "metadata": {},
     "output_type": "execute_result"
    }
   ],
   "source": [
    "DoWYear.describe()"
   ]
  },
  {
   "cell_type": "code",
   "execution_count": 150,
   "metadata": {
    "collapsed": false
   },
   "outputs": [
    {
     "data": {
      "text/plain": [
       "<matplotlib.text.Text at 0x120b45fd0>"
      ]
     },
     "execution_count": 150,
     "metadata": {},
     "output_type": "execute_result"
    },
    {
     "data": {
      "image/png": "[encoded data removed]",
      "text/plain": [
       "<matplotlib.figure.Figure at 0x11b8b14a8>"
      ]
     },
     "metadata": {},
     "output_type": "display_data"
    }
   ],
   "source": [
    "DoWYear.plot(title='Frequency of Incidents Per Year')\n",
    "plt.xlabel('Day of Week')\n",
    "plt.ylabel('Incidents Per Day of Week')"
   ]
  },
  {
   "cell_type": "markdown",
   "metadata": {},
   "source": [
    "### Step 7: Crosstab Date and Domestic - Describe, Visualize\n",
    "#### Mean number of incidents per day = 143.03.  Standard deviation is 29.78.  New Years Day appears twelve times in the days with the most incidents with a range of 251-343, greater than two standard deviations higher than mean incidents/day."
   ]
  },
  {
   "cell_type": "code",
   "execution_count": 26,
   "metadata": {
    "collapsed": false
   },
   "outputs": [
    {
     "data": {
      "text/html": [
       "<div>\n",
       "<table border=\"1\" class=\"dataframe\">\n",
       "  <thead>\n",
       "    <tr style=\"text-align: right;\">\n",
       "      <th>Domestic</th>\n",
       "      <th>1</th>\n",
       "    </tr>\n",
       "    <tr>\n",
       "      <th>Date</th>\n",
       "      <th></th>\n",
       "    </tr>\n",
       "  </thead>\n",
       "  <tbody>\n",
       "    <tr>\n",
       "      <th>2001-01-01</th>\n",
       "      <td>281</td>\n",
       "    </tr>\n",
       "    <tr>\n",
       "      <th>2001-01-02</th>\n",
       "      <td>146</td>\n",
       "    </tr>\n",
       "    <tr>\n",
       "      <th>2001-01-03</th>\n",
       "      <td>162</td>\n",
       "    </tr>\n",
       "    <tr>\n",
       "      <th>2001-01-04</th>\n",
       "      <td>131</td>\n",
       "    </tr>\n",
       "    <tr>\n",
       "      <th>2001-01-05</th>\n",
       "      <td>159</td>\n",
       "    </tr>\n",
       "  </tbody>\n",
       "</table>\n",
       "</div>"
      ],
      "text/plain": [
       "Domestic      1\n",
       "Date           \n",
       "2001-01-01  281\n",
       "2001-01-02  146\n",
       "2001-01-03  162\n",
       "2001-01-04  131\n",
       "2001-01-05  159"
      ]
     },
     "execution_count": 26,
     "metadata": {},
     "output_type": "execute_result"
    }
   ],
   "source": [
    "Day = pd.crosstab(ts[\"Date\"], ts['Domestic'], rownames=['Date'])\n",
    "Day.head()"
   ]
  },
  {
   "cell_type": "code",
   "execution_count": 27,
   "metadata": {
    "collapsed": false
   },
   "outputs": [
    {
     "data": {
      "text/html": [
       "<div>\n",
       "<table border=\"1\" class=\"dataframe\">\n",
       "  <thead>\n",
       "    <tr style=\"text-align: right;\">\n",
       "      <th>Domestic</th>\n",
       "      <th>1</th>\n",
       "    </tr>\n",
       "  </thead>\n",
       "  <tbody>\n",
       "    <tr>\n",
       "      <th>count</th>\n",
       "      <td>4748.000000</td>\n",
       "    </tr>\n",
       "    <tr>\n",
       "      <th>mean</th>\n",
       "      <td>143.033909</td>\n",
       "    </tr>\n",
       "    <tr>\n",
       "      <th>std</th>\n",
       "      <td>29.786275</td>\n",
       "    </tr>\n",
       "    <tr>\n",
       "      <th>min</th>\n",
       "      <td>68.000000</td>\n",
       "    </tr>\n",
       "    <tr>\n",
       "      <th>25%</th>\n",
       "      <td>122.000000</td>\n",
       "    </tr>\n",
       "    <tr>\n",
       "      <th>50%</th>\n",
       "      <td>140.000000</td>\n",
       "    </tr>\n",
       "    <tr>\n",
       "      <th>75%</th>\n",
       "      <td>160.250000</td>\n",
       "    </tr>\n",
       "    <tr>\n",
       "      <th>max</th>\n",
       "      <td>343.000000</td>\n",
       "    </tr>\n",
       "  </tbody>\n",
       "</table>\n",
       "</div>"
      ],
      "text/plain": [
       "Domestic            1\n",
       "count     4748.000000\n",
       "mean       143.033909\n",
       "std         29.786275\n",
       "min         68.000000\n",
       "25%        122.000000\n",
       "50%        140.000000\n",
       "75%        160.250000\n",
       "max        343.000000"
      ]
     },
     "execution_count": 27,
     "metadata": {},
     "output_type": "execute_result"
    }
   ],
   "source": [
    "Day.describe()"
   ]
  },
  {
   "cell_type": "code",
   "execution_count": 164,
   "metadata": {
    "collapsed": false
   },
   "outputs": [
    {
     "data": {
      "text/plain": [
       "<matplotlib.text.Text at 0x13091c4e0>"
      ]
     },
     "execution_count": 164,
     "metadata": {},
     "output_type": "execute_result"
    },
    {
     "data": {
      "image/png": "[encoded data removed]",
      "text/plain": [
       "<matplotlib.figure.Figure at 0x13062ca58>"
      ]
     },
     "metadata": {},
     "output_type": "display_data"
    }
   ],
   "source": [
    "Day.plot(figsize=(8,4), title='Incidents Per Day from 2001-2013')\n",
    "plt.xlabel('Year')\n",
    "plt.ylabel('Incidents Per Day')"
   ]
  },
  {
   "cell_type": "code",
   "execution_count": 155,
   "metadata": {
    "collapsed": false,
    "scrolled": false
   },
   "outputs": [
    {
     "data": {
      "text/html": [
       "<div>\n",
       "<table border=\"1\" class=\"dataframe\">\n",
       "  <thead>\n",
       "    <tr style=\"text-align: right;\">\n",
       "      <th></th>\n",
       "      <th>Domestic</th>\n",
       "      <th>day_of_week</th>\n",
       "      <th>Month</th>\n",
       "      <th>Year</th>\n",
       "      <th>Day</th>\n",
       "    </tr>\n",
       "    <tr>\n",
       "      <th>Date</th>\n",
       "      <th></th>\n",
       "      <th></th>\n",
       "      <th></th>\n",
       "      <th></th>\n",
       "      <th></th>\n",
       "    </tr>\n",
       "  </thead>\n",
       "  <tbody>\n",
       "    <tr>\n",
       "      <th>2004-01-01</th>\n",
       "      <td>343</td>\n",
       "      <td>343</td>\n",
       "      <td>343</td>\n",
       "      <td>343</td>\n",
       "      <td>343</td>\n",
       "    </tr>\n",
       "    <tr>\n",
       "      <th>2002-06-01</th>\n",
       "      <td>316</td>\n",
       "      <td>316</td>\n",
       "      <td>316</td>\n",
       "      <td>316</td>\n",
       "      <td>316</td>\n",
       "    </tr>\n",
       "    <tr>\n",
       "      <th>2003-01-01</th>\n",
       "      <td>312</td>\n",
       "      <td>312</td>\n",
       "      <td>312</td>\n",
       "      <td>312</td>\n",
       "      <td>312</td>\n",
       "    </tr>\n",
       "    <tr>\n",
       "      <th>2005-01-01</th>\n",
       "      <td>310</td>\n",
       "      <td>310</td>\n",
       "      <td>310</td>\n",
       "      <td>310</td>\n",
       "      <td>310</td>\n",
       "    </tr>\n",
       "    <tr>\n",
       "      <th>2009-01-01</th>\n",
       "      <td>304</td>\n",
       "      <td>304</td>\n",
       "      <td>304</td>\n",
       "      <td>304</td>\n",
       "      <td>304</td>\n",
       "    </tr>\n",
       "    <tr>\n",
       "      <th>2002-01-01</th>\n",
       "      <td>286</td>\n",
       "      <td>286</td>\n",
       "      <td>286</td>\n",
       "      <td>286</td>\n",
       "      <td>286</td>\n",
       "    </tr>\n",
       "    <tr>\n",
       "      <th>2001-01-01</th>\n",
       "      <td>281</td>\n",
       "      <td>281</td>\n",
       "      <td>281</td>\n",
       "      <td>281</td>\n",
       "      <td>281</td>\n",
       "    </tr>\n",
       "    <tr>\n",
       "      <th>2006-01-01</th>\n",
       "      <td>277</td>\n",
       "      <td>277</td>\n",
       "      <td>277</td>\n",
       "      <td>277</td>\n",
       "      <td>277</td>\n",
       "    </tr>\n",
       "    <tr>\n",
       "      <th>2007-06-17</th>\n",
       "      <td>276</td>\n",
       "      <td>276</td>\n",
       "      <td>276</td>\n",
       "      <td>276</td>\n",
       "      <td>276</td>\n",
       "    </tr>\n",
       "    <tr>\n",
       "      <th>2001-06-17</th>\n",
       "      <td>267</td>\n",
       "      <td>267</td>\n",
       "      <td>267</td>\n",
       "      <td>267</td>\n",
       "      <td>267</td>\n",
       "    </tr>\n",
       "    <tr>\n",
       "      <th>2009-06-21</th>\n",
       "      <td>267</td>\n",
       "      <td>267</td>\n",
       "      <td>267</td>\n",
       "      <td>267</td>\n",
       "      <td>267</td>\n",
       "    </tr>\n",
       "    <tr>\n",
       "      <th>2007-01-01</th>\n",
       "      <td>266</td>\n",
       "      <td>266</td>\n",
       "      <td>266</td>\n",
       "      <td>266</td>\n",
       "      <td>266</td>\n",
       "    </tr>\n",
       "    <tr>\n",
       "      <th>2008-01-01</th>\n",
       "      <td>262</td>\n",
       "      <td>262</td>\n",
       "      <td>262</td>\n",
       "      <td>262</td>\n",
       "      <td>262</td>\n",
       "    </tr>\n",
       "    <tr>\n",
       "      <th>2002-05-27</th>\n",
       "      <td>259</td>\n",
       "      <td>259</td>\n",
       "      <td>259</td>\n",
       "      <td>259</td>\n",
       "      <td>259</td>\n",
       "    </tr>\n",
       "    <tr>\n",
       "      <th>2002-06-16</th>\n",
       "      <td>259</td>\n",
       "      <td>259</td>\n",
       "      <td>259</td>\n",
       "      <td>259</td>\n",
       "      <td>259</td>\n",
       "    </tr>\n",
       "    <tr>\n",
       "      <th>2011-01-01</th>\n",
       "      <td>257</td>\n",
       "      <td>257</td>\n",
       "      <td>257</td>\n",
       "      <td>257</td>\n",
       "      <td>257</td>\n",
       "    </tr>\n",
       "    <tr>\n",
       "      <th>2002-08-11</th>\n",
       "      <td>255</td>\n",
       "      <td>255</td>\n",
       "      <td>255</td>\n",
       "      <td>255</td>\n",
       "      <td>255</td>\n",
       "    </tr>\n",
       "    <tr>\n",
       "      <th>2012-01-01</th>\n",
       "      <td>252</td>\n",
       "      <td>252</td>\n",
       "      <td>252</td>\n",
       "      <td>252</td>\n",
       "      <td>252</td>\n",
       "    </tr>\n",
       "    <tr>\n",
       "      <th>2001-06-16</th>\n",
       "      <td>251</td>\n",
       "      <td>251</td>\n",
       "      <td>251</td>\n",
       "      <td>251</td>\n",
       "      <td>251</td>\n",
       "    </tr>\n",
       "    <tr>\n",
       "      <th>2002-06-30</th>\n",
       "      <td>251</td>\n",
       "      <td>251</td>\n",
       "      <td>251</td>\n",
       "      <td>251</td>\n",
       "      <td>251</td>\n",
       "    </tr>\n",
       "    <tr>\n",
       "      <th>2013-01-01</th>\n",
       "      <td>251</td>\n",
       "      <td>251</td>\n",
       "      <td>251</td>\n",
       "      <td>251</td>\n",
       "      <td>251</td>\n",
       "    </tr>\n",
       "    <tr>\n",
       "      <th>2002-07-20</th>\n",
       "      <td>250</td>\n",
       "      <td>250</td>\n",
       "      <td>250</td>\n",
       "      <td>250</td>\n",
       "      <td>250</td>\n",
       "    </tr>\n",
       "    <tr>\n",
       "      <th>2002-06-15</th>\n",
       "      <td>247</td>\n",
       "      <td>247</td>\n",
       "      <td>247</td>\n",
       "      <td>247</td>\n",
       "      <td>247</td>\n",
       "    </tr>\n",
       "    <tr>\n",
       "      <th>2002-07-04</th>\n",
       "      <td>247</td>\n",
       "      <td>247</td>\n",
       "      <td>247</td>\n",
       "      <td>247</td>\n",
       "      <td>247</td>\n",
       "    </tr>\n",
       "    <tr>\n",
       "      <th>2008-06-01</th>\n",
       "      <td>244</td>\n",
       "      <td>244</td>\n",
       "      <td>244</td>\n",
       "      <td>244</td>\n",
       "      <td>244</td>\n",
       "    </tr>\n",
       "    <tr>\n",
       "      <th>2002-07-21</th>\n",
       "      <td>243</td>\n",
       "      <td>243</td>\n",
       "      <td>243</td>\n",
       "      <td>243</td>\n",
       "      <td>243</td>\n",
       "    </tr>\n",
       "    <tr>\n",
       "      <th>2002-09-01</th>\n",
       "      <td>243</td>\n",
       "      <td>243</td>\n",
       "      <td>243</td>\n",
       "      <td>243</td>\n",
       "      <td>243</td>\n",
       "    </tr>\n",
       "    <tr>\n",
       "      <th>2001-04-22</th>\n",
       "      <td>242</td>\n",
       "      <td>242</td>\n",
       "      <td>242</td>\n",
       "      <td>242</td>\n",
       "      <td>242</td>\n",
       "    </tr>\n",
       "    <tr>\n",
       "      <th>2002-05-25</th>\n",
       "      <td>242</td>\n",
       "      <td>242</td>\n",
       "      <td>242</td>\n",
       "      <td>242</td>\n",
       "      <td>242</td>\n",
       "    </tr>\n",
       "    <tr>\n",
       "      <th>2001-06-30</th>\n",
       "      <td>240</td>\n",
       "      <td>240</td>\n",
       "      <td>240</td>\n",
       "      <td>240</td>\n",
       "      <td>240</td>\n",
       "    </tr>\n",
       "  </tbody>\n",
       "</table>\n",
       "</div>"
      ],
      "text/plain": [
       "            Domestic  day_of_week  Month  Year  Day\n",
       "Date                                               \n",
       "2004-01-01       343          343    343   343  343\n",
       "2002-06-01       316          316    316   316  316\n",
       "2003-01-01       312          312    312   312  312\n",
       "2005-01-01       310          310    310   310  310\n",
       "2009-01-01       304          304    304   304  304\n",
       "2002-01-01       286          286    286   286  286\n",
       "2001-01-01       281          281    281   281  281\n",
       "2006-01-01       277          277    277   277  277\n",
       "2007-06-17       276          276    276   276  276\n",
       "2001-06-17       267          267    267   267  267\n",
       "2009-06-21       267          267    267   267  267\n",
       "2007-01-01       266          266    266   266  266\n",
       "2008-01-01       262          262    262   262  262\n",
       "2002-05-27       259          259    259   259  259\n",
       "2002-06-16       259          259    259   259  259\n",
       "2011-01-01       257          257    257   257  257\n",
       "2002-08-11       255          255    255   255  255\n",
       "2012-01-01       252          252    252   252  252\n",
       "2001-06-16       251          251    251   251  251\n",
       "2002-06-30       251          251    251   251  251\n",
       "2013-01-01       251          251    251   251  251\n",
       "2002-07-20       250          250    250   250  250\n",
       "2002-06-15       247          247    247   247  247\n",
       "2002-07-04       247          247    247   247  247\n",
       "2008-06-01       244          244    244   244  244\n",
       "2002-07-21       243          243    243   243  243\n",
       "2002-09-01       243          243    243   243  243\n",
       "2001-04-22       242          242    242   242  242\n",
       "2002-05-25       242          242    242   242  242\n",
       "2001-06-30       240          240    240   240  240"
      ]
     },
     "execution_count": 155,
     "metadata": {},
     "output_type": "execute_result"
    }
   ],
   "source": [
    "DayCount = ts.groupby('Date').count()\n",
    "DayCount.nlargest(30, \"Domestic\")"
   ]
  },
  {
   "cell_type": "code",
   "execution_count": 156,
   "metadata": {
    "collapsed": false
   },
   "outputs": [
    {
     "data": {
      "text/plain": [
       "<matplotlib.text.Text at 0x1272c7d30>"
      ]
     },
     "execution_count": 156,
     "metadata": {},
     "output_type": "execute_result"
    },
    {
     "data": {
      "image/png": "[encoded data removed]",
      "text/plain": [
       "<matplotlib.figure.Figure at 0x1272a3a90>"
      ]
     },
     "metadata": {},
     "output_type": "display_data"
    }
   ],
   "source": [
    "DayCount.Domestic.plot(kind='hist', bins=20, title='Frequency of Incidents Per Day')\n",
    "plt.xlabel('Daily Incidents')\n",
    "plt.ylabel('Frequency')"
   ]
  },
  {
   "cell_type": "code",
   "execution_count": 30,
   "metadata": {
    "collapsed": false
   },
   "outputs": [
    {
     "name": "stderr",
     "output_type": "stream",
     "text": [
      "/Users/sachinkelkar/anaconda/lib/python3.5/site-packages/ipykernel/__main__.py:1: FutureWarning: \n",
      "The default value for 'return_type' will change to 'axes' in a future release.\n",
      " To use the future behavior now, set return_type='axes'.\n",
      " To keep the previous behavior and silence this warning, set return_type='dict'.\n",
      "  if __name__ == '__main__':\n"
     ]
    },
    {
     "data": {
      "text/plain": [
       "{'boxes': [<matplotlib.lines.Line2D at 0x11a28a978>],\n",
       " 'caps': [<matplotlib.lines.Line2D at 0x11a27fac8>,\n",
       "  <matplotlib.lines.Line2D at 0x11a27ba20>],\n",
       " 'fliers': [<matplotlib.lines.Line2D at 0x118756a90>],\n",
       " 'means': [],\n",
       " 'medians': [<matplotlib.lines.Line2D at 0x11a27bb38>],\n",
       " 'whiskers': [<matplotlib.lines.Line2D at 0x11a28ab00>,\n",
       "  <matplotlib.lines.Line2D at 0x11a27f9b0>]}"
      ]
     },
     "execution_count": 30,
     "metadata": {},
     "output_type": "execute_result"
    },
    {
     "data": {
      "image/png": "[encoded data removed]",
      "text/plain": [
       "<matplotlib.figure.Figure at 0x120af97f0>"
      ]
     },
     "metadata": {},
     "output_type": "display_data"
    }
   ],
   "source": [
    "DayCount.boxplot(['Domestic'])"
   ]
  },
  {
   "cell_type": "markdown",
   "metadata": {},
   "source": [
    "### Step 8:  Group by Day of the Week for entire DataSet - Describe and Vizualize\n",
    "#### Just as Saturday and Sunday had the highest average number of incidents each year, they have the highest average across the entire dataset."
   ]
  },
  {
   "cell_type": "code",
   "execution_count": 31,
   "metadata": {
    "collapsed": true
   },
   "outputs": [],
   "source": [
    "DoWCount = ts.groupby('day_of_week').count()"
   ]
  },
  {
   "cell_type": "code",
   "execution_count": 32,
   "metadata": {
    "collapsed": false
   },
   "outputs": [
    {
     "data": {
      "text/html": [
       "<div>\n",
       "<table border=\"1\" class=\"dataframe\">\n",
       "  <thead>\n",
       "    <tr style=\"text-align: right;\">\n",
       "      <th></th>\n",
       "      <th>Date</th>\n",
       "      <th>Domestic</th>\n",
       "      <th>Month</th>\n",
       "      <th>Year</th>\n",
       "      <th>Day</th>\n",
       "    </tr>\n",
       "  </thead>\n",
       "  <tbody>\n",
       "    <tr>\n",
       "      <th>count</th>\n",
       "      <td>7.000000</td>\n",
       "      <td>7.000000</td>\n",
       "      <td>7.000000</td>\n",
       "      <td>7.000000</td>\n",
       "      <td>7.000000</td>\n",
       "    </tr>\n",
       "    <tr>\n",
       "      <th>mean</th>\n",
       "      <td>97017.857143</td>\n",
       "      <td>97017.857143</td>\n",
       "      <td>97017.857143</td>\n",
       "      <td>97017.857143</td>\n",
       "      <td>97017.857143</td>\n",
       "    </tr>\n",
       "    <tr>\n",
       "      <th>std</th>\n",
       "      <td>10474.654385</td>\n",
       "      <td>10474.654385</td>\n",
       "      <td>10474.654385</td>\n",
       "      <td>10474.654385</td>\n",
       "      <td>10474.654385</td>\n",
       "    </tr>\n",
       "    <tr>\n",
       "      <th>min</th>\n",
       "      <td>88585.000000</td>\n",
       "      <td>88585.000000</td>\n",
       "      <td>88585.000000</td>\n",
       "      <td>88585.000000</td>\n",
       "      <td>88585.000000</td>\n",
       "    </tr>\n",
       "    <tr>\n",
       "      <th>25%</th>\n",
       "      <td>89651.500000</td>\n",
       "      <td>89651.500000</td>\n",
       "      <td>89651.500000</td>\n",
       "      <td>89651.500000</td>\n",
       "      <td>89651.500000</td>\n",
       "    </tr>\n",
       "    <tr>\n",
       "      <th>50%</th>\n",
       "      <td>93510.000000</td>\n",
       "      <td>93510.000000</td>\n",
       "      <td>93510.000000</td>\n",
       "      <td>93510.000000</td>\n",
       "      <td>93510.000000</td>\n",
       "    </tr>\n",
       "    <tr>\n",
       "      <th>75%</th>\n",
       "      <td>101778.500000</td>\n",
       "      <td>101778.500000</td>\n",
       "      <td>101778.500000</td>\n",
       "      <td>101778.500000</td>\n",
       "      <td>101778.500000</td>\n",
       "    </tr>\n",
       "    <tr>\n",
       "      <th>max</th>\n",
       "      <td>114170.000000</td>\n",
       "      <td>114170.000000</td>\n",
       "      <td>114170.000000</td>\n",
       "      <td>114170.000000</td>\n",
       "      <td>114170.000000</td>\n",
       "    </tr>\n",
       "  </tbody>\n",
       "</table>\n",
       "</div>"
      ],
      "text/plain": [
       "                Date       Domestic          Month           Year  \\\n",
       "count       7.000000       7.000000       7.000000       7.000000   \n",
       "mean    97017.857143   97017.857143   97017.857143   97017.857143   \n",
       "std     10474.654385   10474.654385   10474.654385   10474.654385   \n",
       "min     88585.000000   88585.000000   88585.000000   88585.000000   \n",
       "25%     89651.500000   89651.500000   89651.500000   89651.500000   \n",
       "50%     93510.000000   93510.000000   93510.000000   93510.000000   \n",
       "75%    101778.500000  101778.500000  101778.500000  101778.500000   \n",
       "max    114170.000000  114170.000000  114170.000000  114170.000000   \n",
       "\n",
       "                 Day  \n",
       "count       7.000000  \n",
       "mean    97017.857143  \n",
       "std     10474.654385  \n",
       "min     88585.000000  \n",
       "25%     89651.500000  \n",
       "50%     93510.000000  \n",
       "75%    101778.500000  \n",
       "max    114170.000000  "
      ]
     },
     "execution_count": 32,
     "metadata": {},
     "output_type": "execute_result"
    }
   ],
   "source": [
    "DoWCount.describe()"
   ]
  },
  {
   "cell_type": "code",
   "execution_count": 33,
   "metadata": {
    "collapsed": false
   },
   "outputs": [
    {
     "data": {
      "text/html": [
       "<div>\n",
       "<table border=\"1\" class=\"dataframe\">\n",
       "  <thead>\n",
       "    <tr style=\"text-align: right;\">\n",
       "      <th></th>\n",
       "      <th>Date</th>\n",
       "      <th>Domestic</th>\n",
       "      <th>Month</th>\n",
       "      <th>Year</th>\n",
       "      <th>Day</th>\n",
       "    </tr>\n",
       "    <tr>\n",
       "      <th>day_of_week</th>\n",
       "      <th></th>\n",
       "      <th></th>\n",
       "      <th></th>\n",
       "      <th></th>\n",
       "      <th></th>\n",
       "    </tr>\n",
       "  </thead>\n",
       "  <tbody>\n",
       "    <tr>\n",
       "      <th>Sunday</th>\n",
       "      <td>114170</td>\n",
       "      <td>114170</td>\n",
       "      <td>114170</td>\n",
       "      <td>114170</td>\n",
       "      <td>114170</td>\n",
       "    </tr>\n",
       "    <tr>\n",
       "      <th>Saturday</th>\n",
       "      <td>109733</td>\n",
       "      <td>109733</td>\n",
       "      <td>109733</td>\n",
       "      <td>109733</td>\n",
       "      <td>109733</td>\n",
       "    </tr>\n",
       "    <tr>\n",
       "      <th>Friday</th>\n",
       "      <td>93824</td>\n",
       "      <td>93824</td>\n",
       "      <td>93824</td>\n",
       "      <td>93824</td>\n",
       "      <td>93824</td>\n",
       "    </tr>\n",
       "    <tr>\n",
       "      <th>Monday</th>\n",
       "      <td>93510</td>\n",
       "      <td>93510</td>\n",
       "      <td>93510</td>\n",
       "      <td>93510</td>\n",
       "      <td>93510</td>\n",
       "    </tr>\n",
       "    <tr>\n",
       "      <th>Tuesday</th>\n",
       "      <td>90035</td>\n",
       "      <td>90035</td>\n",
       "      <td>90035</td>\n",
       "      <td>90035</td>\n",
       "      <td>90035</td>\n",
       "    </tr>\n",
       "    <tr>\n",
       "      <th>Wednesday</th>\n",
       "      <td>89268</td>\n",
       "      <td>89268</td>\n",
       "      <td>89268</td>\n",
       "      <td>89268</td>\n",
       "      <td>89268</td>\n",
       "    </tr>\n",
       "    <tr>\n",
       "      <th>Thursday</th>\n",
       "      <td>88585</td>\n",
       "      <td>88585</td>\n",
       "      <td>88585</td>\n",
       "      <td>88585</td>\n",
       "      <td>88585</td>\n",
       "    </tr>\n",
       "  </tbody>\n",
       "</table>\n",
       "</div>"
      ],
      "text/plain": [
       "               Date  Domestic   Month    Year     Day\n",
       "day_of_week                                          \n",
       "Sunday       114170    114170  114170  114170  114170\n",
       "Saturday     109733    109733  109733  109733  109733\n",
       "Friday        93824     93824   93824   93824   93824\n",
       "Monday        93510     93510   93510   93510   93510\n",
       "Tuesday       90035     90035   90035   90035   90035\n",
       "Wednesday     89268     89268   89268   89268   89268\n",
       "Thursday      88585     88585   88585   88585   88585"
      ]
     },
     "execution_count": 33,
     "metadata": {},
     "output_type": "execute_result"
    }
   ],
   "source": [
    "DoWCount.nlargest(7, \"Domestic\")"
   ]
  },
  {
   "cell_type": "code",
   "execution_count": 166,
   "metadata": {
    "collapsed": false
   },
   "outputs": [
    {
     "data": {
      "text/plain": [
       "<matplotlib.text.Text at 0x1310c91d0>"
      ]
     },
     "execution_count": 166,
     "metadata": {},
     "output_type": "execute_result"
    },
    {
     "data": {
      "image/png": "[encoded data removed]",
      "text/plain": [
       "<matplotlib.figure.Figure at 0x1310e5208>"
      ]
     },
     "metadata": {},
     "output_type": "display_data"
    }
   ],
   "source": [
    "DoWCount.Domestic.plot(kind='hist', bins=20, title='Frequency of Incidents Per Day of Week')\n",
    "plt.xlabel('Day of Week Incidents')\n",
    "plt.ylabel('Frequency')"
   ]
  },
  {
   "cell_type": "markdown",
   "metadata": {},
   "source": [
    "### Step 9: Crosstab Month and Year and Group by Month \n",
    "#### May through August have highest number of incidents per month, throughout entire period.  July 2002 had the overall highest number of incidents-6062 incidents-and the most oncidents across 13 year period - 64,986.  There is a general trend downward in incidents of domestic violence over the 13 years."
   ]
  },
  {
   "cell_type": "code",
   "execution_count": 35,
   "metadata": {
    "collapsed": false
   },
   "outputs": [
    {
     "data": {
      "text/html": [
       "<div>\n",
       "<table border=\"1\" class=\"dataframe\">\n",
       "  <thead>\n",
       "    <tr style=\"text-align: right;\">\n",
       "      <th>Year</th>\n",
       "      <th>2001</th>\n",
       "      <th>2002</th>\n",
       "      <th>2003</th>\n",
       "      <th>2004</th>\n",
       "      <th>2005</th>\n",
       "      <th>2006</th>\n",
       "      <th>2007</th>\n",
       "      <th>2008</th>\n",
       "      <th>2009</th>\n",
       "      <th>2010</th>\n",
       "      <th>2011</th>\n",
       "      <th>2012</th>\n",
       "      <th>2013</th>\n",
       "    </tr>\n",
       "    <tr>\n",
       "      <th>Month</th>\n",
       "      <th></th>\n",
       "      <th></th>\n",
       "      <th></th>\n",
       "      <th></th>\n",
       "      <th></th>\n",
       "      <th></th>\n",
       "      <th></th>\n",
       "      <th></th>\n",
       "      <th></th>\n",
       "      <th></th>\n",
       "      <th></th>\n",
       "      <th></th>\n",
       "      <th></th>\n",
       "    </tr>\n",
       "  </thead>\n",
       "  <tbody>\n",
       "    <tr>\n",
       "      <th>1</th>\n",
       "      <td>4710</td>\n",
       "      <td>4637</td>\n",
       "      <td>4224</td>\n",
       "      <td>4222</td>\n",
       "      <td>3959</td>\n",
       "      <td>4073</td>\n",
       "      <td>3845</td>\n",
       "      <td>3905</td>\n",
       "      <td>4075</td>\n",
       "      <td>3838</td>\n",
       "      <td>3788</td>\n",
       "      <td>3753</td>\n",
       "      <td>3541</td>\n",
       "    </tr>\n",
       "    <tr>\n",
       "      <th>2</th>\n",
       "      <td>4242</td>\n",
       "      <td>4083</td>\n",
       "      <td>3607</td>\n",
       "      <td>4301</td>\n",
       "      <td>3740</td>\n",
       "      <td>3650</td>\n",
       "      <td>3550</td>\n",
       "      <td>3559</td>\n",
       "      <td>3698</td>\n",
       "      <td>3518</td>\n",
       "      <td>3248</td>\n",
       "      <td>3468</td>\n",
       "      <td>3094</td>\n",
       "    </tr>\n",
       "    <tr>\n",
       "      <th>3</th>\n",
       "      <td>5078</td>\n",
       "      <td>5114</td>\n",
       "      <td>4521</td>\n",
       "      <td>4898</td>\n",
       "      <td>4099</td>\n",
       "      <td>4061</td>\n",
       "      <td>4365</td>\n",
       "      <td>4196</td>\n",
       "      <td>4477</td>\n",
       "      <td>4640</td>\n",
       "      <td>4157</td>\n",
       "      <td>4330</td>\n",
       "      <td>3879</td>\n",
       "    </tr>\n",
       "    <tr>\n",
       "      <th>4</th>\n",
       "      <td>5145</td>\n",
       "      <td>5133</td>\n",
       "      <td>4784</td>\n",
       "      <td>4733</td>\n",
       "      <td>4583</td>\n",
       "      <td>4502</td>\n",
       "      <td>4367</td>\n",
       "      <td>4203</td>\n",
       "      <td>4367</td>\n",
       "      <td>4549</td>\n",
       "      <td>4425</td>\n",
       "      <td>4000</td>\n",
       "      <td>3954</td>\n",
       "    </tr>\n",
       "    <tr>\n",
       "      <th>5</th>\n",
       "      <td>5412</td>\n",
       "      <td>5907</td>\n",
       "      <td>4769</td>\n",
       "      <td>5173</td>\n",
       "      <td>4981</td>\n",
       "      <td>4720</td>\n",
       "      <td>4808</td>\n",
       "      <td>4500</td>\n",
       "      <td>5043</td>\n",
       "      <td>4896</td>\n",
       "      <td>4572</td>\n",
       "      <td>4574</td>\n",
       "      <td>4166</td>\n",
       "    </tr>\n",
       "    <tr>\n",
       "      <th>6</th>\n",
       "      <td>5709</td>\n",
       "      <td>6062</td>\n",
       "      <td>4823</td>\n",
       "      <td>4812</td>\n",
       "      <td>4884</td>\n",
       "      <td>4663</td>\n",
       "      <td>4829</td>\n",
       "      <td>4632</td>\n",
       "      <td>4941</td>\n",
       "      <td>4863</td>\n",
       "      <td>4645</td>\n",
       "      <td>4671</td>\n",
       "      <td>4277</td>\n",
       "    </tr>\n",
       "    <tr>\n",
       "      <th>7</th>\n",
       "      <td>5340</td>\n",
       "      <td>6061</td>\n",
       "      <td>5262</td>\n",
       "      <td>4992</td>\n",
       "      <td>4862</td>\n",
       "      <td>5107</td>\n",
       "      <td>4797</td>\n",
       "      <td>4888</td>\n",
       "      <td>4781</td>\n",
       "      <td>4994</td>\n",
       "      <td>4883</td>\n",
       "      <td>4811</td>\n",
       "      <td>4208</td>\n",
       "    </tr>\n",
       "    <tr>\n",
       "      <th>8</th>\n",
       "      <td>5130</td>\n",
       "      <td>5348</td>\n",
       "      <td>5176</td>\n",
       "      <td>4724</td>\n",
       "      <td>4417</td>\n",
       "      <td>4617</td>\n",
       "      <td>4593</td>\n",
       "      <td>4723</td>\n",
       "      <td>4911</td>\n",
       "      <td>4689</td>\n",
       "      <td>4287</td>\n",
       "      <td>4305</td>\n",
       "      <td>4055</td>\n",
       "    </tr>\n",
       "    <tr>\n",
       "      <th>9</th>\n",
       "      <td>4757</td>\n",
       "      <td>4932</td>\n",
       "      <td>4466</td>\n",
       "      <td>4559</td>\n",
       "      <td>4111</td>\n",
       "      <td>4191</td>\n",
       "      <td>4363</td>\n",
       "      <td>4378</td>\n",
       "      <td>4469</td>\n",
       "      <td>4215</td>\n",
       "      <td>3897</td>\n",
       "      <td>3867</td>\n",
       "      <td>3774</td>\n",
       "    </tr>\n",
       "    <tr>\n",
       "      <th>10</th>\n",
       "      <td>4403</td>\n",
       "      <td>4851</td>\n",
       "      <td>4283</td>\n",
       "      <td>4315</td>\n",
       "      <td>4089</td>\n",
       "      <td>4076</td>\n",
       "      <td>4127</td>\n",
       "      <td>4034</td>\n",
       "      <td>4154</td>\n",
       "      <td>4184</td>\n",
       "      <td>4005</td>\n",
       "      <td>3682</td>\n",
       "      <td>3433</td>\n",
       "    </tr>\n",
       "    <tr>\n",
       "      <th>11</th>\n",
       "      <td>4406</td>\n",
       "      <td>4368</td>\n",
       "      <td>3871</td>\n",
       "      <td>3907</td>\n",
       "      <td>3560</td>\n",
       "      <td>3799</td>\n",
       "      <td>3533</td>\n",
       "      <td>3940</td>\n",
       "      <td>4100</td>\n",
       "      <td>3844</td>\n",
       "      <td>3733</td>\n",
       "      <td>3484</td>\n",
       "      <td>3319</td>\n",
       "    </tr>\n",
       "    <tr>\n",
       "      <th>12</th>\n",
       "      <td>4354</td>\n",
       "      <td>4690</td>\n",
       "      <td>4034</td>\n",
       "      <td>3825</td>\n",
       "      <td>3437</td>\n",
       "      <td>3842</td>\n",
       "      <td>3748</td>\n",
       "      <td>3490</td>\n",
       "      <td>3931</td>\n",
       "      <td>3573</td>\n",
       "      <td>3825</td>\n",
       "      <td>3577</td>\n",
       "      <td>3139</td>\n",
       "    </tr>\n",
       "  </tbody>\n",
       "</table>\n",
       "</div>"
      ],
      "text/plain": [
       "Year   2001  2002  2003  2004  2005  2006  2007  2008  2009  2010  2011  2012  \\\n",
       "Month                                                                           \n",
       "1      4710  4637  4224  4222  3959  4073  3845  3905  4075  3838  3788  3753   \n",
       "2      4242  4083  3607  4301  3740  3650  3550  3559  3698  3518  3248  3468   \n",
       "3      5078  5114  4521  4898  4099  4061  4365  4196  4477  4640  4157  4330   \n",
       "4      5145  5133  4784  4733  4583  4502  4367  4203  4367  4549  4425  4000   \n",
       "5      5412  5907  4769  5173  4981  4720  4808  4500  5043  4896  4572  4574   \n",
       "6      5709  6062  4823  4812  4884  4663  4829  4632  4941  4863  4645  4671   \n",
       "7      5340  6061  5262  4992  4862  5107  4797  4888  4781  4994  4883  4811   \n",
       "8      5130  5348  5176  4724  4417  4617  4593  4723  4911  4689  4287  4305   \n",
       "9      4757  4932  4466  4559  4111  4191  4363  4378  4469  4215  3897  3867   \n",
       "10     4403  4851  4283  4315  4089  4076  4127  4034  4154  4184  4005  3682   \n",
       "11     4406  4368  3871  3907  3560  3799  3533  3940  4100  3844  3733  3484   \n",
       "12     4354  4690  4034  3825  3437  3842  3748  3490  3931  3573  3825  3577   \n",
       "\n",
       "Year   2013  \n",
       "Month        \n",
       "1      3541  \n",
       "2      3094  \n",
       "3      3879  \n",
       "4      3954  \n",
       "5      4166  \n",
       "6      4277  \n",
       "7      4208  \n",
       "8      4055  \n",
       "9      3774  \n",
       "10     3433  \n",
       "11     3319  \n",
       "12     3139  "
      ]
     },
     "execution_count": 35,
     "metadata": {},
     "output_type": "execute_result"
    }
   ],
   "source": [
    "MY = pd.crosstab(ts['Month'], ts['Year'], rownames=['Month'])\n",
    "MY"
   ]
  },
  {
   "cell_type": "code",
   "execution_count": 36,
   "metadata": {
    "collapsed": false
   },
   "outputs": [
    {
     "data": {
      "text/html": [
       "<div>\n",
       "<table border=\"1\" class=\"dataframe\">\n",
       "  <thead>\n",
       "    <tr style=\"text-align: right;\">\n",
       "      <th>Year</th>\n",
       "      <th>2001</th>\n",
       "      <th>2002</th>\n",
       "      <th>2003</th>\n",
       "      <th>2004</th>\n",
       "      <th>2005</th>\n",
       "      <th>2006</th>\n",
       "      <th>2007</th>\n",
       "      <th>2008</th>\n",
       "      <th>2009</th>\n",
       "      <th>2010</th>\n",
       "      <th>2011</th>\n",
       "      <th>2012</th>\n",
       "      <th>2013</th>\n",
       "    </tr>\n",
       "  </thead>\n",
       "  <tbody>\n",
       "    <tr>\n",
       "      <th>count</th>\n",
       "      <td>12.000000</td>\n",
       "      <td>12.000000</td>\n",
       "      <td>12.000000</td>\n",
       "      <td>12.000000</td>\n",
       "      <td>12.000000</td>\n",
       "      <td>12.000000</td>\n",
       "      <td>12.00000</td>\n",
       "      <td>12.000000</td>\n",
       "      <td>12.000000</td>\n",
       "      <td>12.000000</td>\n",
       "      <td>12.000000</td>\n",
       "      <td>12.000000</td>\n",
       "      <td>12.000000</td>\n",
       "    </tr>\n",
       "    <tr>\n",
       "      <th>mean</th>\n",
       "      <td>4890.500000</td>\n",
       "      <td>5098.833333</td>\n",
       "      <td>4485.000000</td>\n",
       "      <td>4538.416667</td>\n",
       "      <td>4226.833333</td>\n",
       "      <td>4275.083333</td>\n",
       "      <td>4243.75000</td>\n",
       "      <td>4204.000000</td>\n",
       "      <td>4412.250000</td>\n",
       "      <td>4316.916667</td>\n",
       "      <td>4122.083333</td>\n",
       "      <td>4043.500000</td>\n",
       "      <td>3736.583333</td>\n",
       "    </tr>\n",
       "    <tr>\n",
       "      <th>std</th>\n",
       "      <td>479.812937</td>\n",
       "      <td>647.076900</td>\n",
       "      <td>506.985207</td>\n",
       "      <td>426.333301</td>\n",
       "      <td>521.631328</td>\n",
       "      <td>441.817827</td>\n",
       "      <td>480.33362</td>\n",
       "      <td>442.326083</td>\n",
       "      <td>436.025046</td>\n",
       "      <td>527.552058</td>\n",
       "      <td>462.668634</td>\n",
       "      <td>479.079325</td>\n",
       "      <td>420.371580</td>\n",
       "    </tr>\n",
       "    <tr>\n",
       "      <th>min</th>\n",
       "      <td>4242.000000</td>\n",
       "      <td>4083.000000</td>\n",
       "      <td>3607.000000</td>\n",
       "      <td>3825.000000</td>\n",
       "      <td>3437.000000</td>\n",
       "      <td>3650.000000</td>\n",
       "      <td>3533.00000</td>\n",
       "      <td>3490.000000</td>\n",
       "      <td>3698.000000</td>\n",
       "      <td>3518.000000</td>\n",
       "      <td>3248.000000</td>\n",
       "      <td>3468.000000</td>\n",
       "      <td>3094.000000</td>\n",
       "    </tr>\n",
       "    <tr>\n",
       "      <th>25%</th>\n",
       "      <td>4405.250000</td>\n",
       "      <td>4676.750000</td>\n",
       "      <td>4176.500000</td>\n",
       "      <td>4281.250000</td>\n",
       "      <td>3904.250000</td>\n",
       "      <td>4006.250000</td>\n",
       "      <td>3820.75000</td>\n",
       "      <td>3931.250000</td>\n",
       "      <td>4093.750000</td>\n",
       "      <td>3842.500000</td>\n",
       "      <td>3815.750000</td>\n",
       "      <td>3655.750000</td>\n",
       "      <td>3404.500000</td>\n",
       "    </tr>\n",
       "    <tr>\n",
       "      <th>50%</th>\n",
       "      <td>4917.500000</td>\n",
       "      <td>5023.000000</td>\n",
       "      <td>4493.500000</td>\n",
       "      <td>4641.500000</td>\n",
       "      <td>4105.000000</td>\n",
       "      <td>4133.500000</td>\n",
       "      <td>4364.00000</td>\n",
       "      <td>4199.500000</td>\n",
       "      <td>4418.000000</td>\n",
       "      <td>4382.000000</td>\n",
       "      <td>4081.000000</td>\n",
       "      <td>3933.500000</td>\n",
       "      <td>3826.500000</td>\n",
       "    </tr>\n",
       "    <tr>\n",
       "      <th>75%</th>\n",
       "      <td>5193.750000</td>\n",
       "      <td>5487.750000</td>\n",
       "      <td>4793.750000</td>\n",
       "      <td>4833.500000</td>\n",
       "      <td>4652.750000</td>\n",
       "      <td>4628.500000</td>\n",
       "      <td>4644.00000</td>\n",
       "      <td>4533.000000</td>\n",
       "      <td>4813.500000</td>\n",
       "      <td>4732.500000</td>\n",
       "      <td>4461.750000</td>\n",
       "      <td>4391.000000</td>\n",
       "      <td>4082.750000</td>\n",
       "    </tr>\n",
       "    <tr>\n",
       "      <th>max</th>\n",
       "      <td>5709.000000</td>\n",
       "      <td>6062.000000</td>\n",
       "      <td>5262.000000</td>\n",
       "      <td>5173.000000</td>\n",
       "      <td>4981.000000</td>\n",
       "      <td>5107.000000</td>\n",
       "      <td>4829.00000</td>\n",
       "      <td>4888.000000</td>\n",
       "      <td>5043.000000</td>\n",
       "      <td>4994.000000</td>\n",
       "      <td>4883.000000</td>\n",
       "      <td>4811.000000</td>\n",
       "      <td>4277.000000</td>\n",
       "    </tr>\n",
       "  </tbody>\n",
       "</table>\n",
       "</div>"
      ],
      "text/plain": [
       "Year          2001         2002         2003         2004         2005  \\\n",
       "count    12.000000    12.000000    12.000000    12.000000    12.000000   \n",
       "mean   4890.500000  5098.833333  4485.000000  4538.416667  4226.833333   \n",
       "std     479.812937   647.076900   506.985207   426.333301   521.631328   \n",
       "min    4242.000000  4083.000000  3607.000000  3825.000000  3437.000000   \n",
       "25%    4405.250000  4676.750000  4176.500000  4281.250000  3904.250000   \n",
       "50%    4917.500000  5023.000000  4493.500000  4641.500000  4105.000000   \n",
       "75%    5193.750000  5487.750000  4793.750000  4833.500000  4652.750000   \n",
       "max    5709.000000  6062.000000  5262.000000  5173.000000  4981.000000   \n",
       "\n",
       "Year          2006        2007         2008         2009         2010  \\\n",
       "count    12.000000    12.00000    12.000000    12.000000    12.000000   \n",
       "mean   4275.083333  4243.75000  4204.000000  4412.250000  4316.916667   \n",
       "std     441.817827   480.33362   442.326083   436.025046   527.552058   \n",
       "min    3650.000000  3533.00000  3490.000000  3698.000000  3518.000000   \n",
       "25%    4006.250000  3820.75000  3931.250000  4093.750000  3842.500000   \n",
       "50%    4133.500000  4364.00000  4199.500000  4418.000000  4382.000000   \n",
       "75%    4628.500000  4644.00000  4533.000000  4813.500000  4732.500000   \n",
       "max    5107.000000  4829.00000  4888.000000  5043.000000  4994.000000   \n",
       "\n",
       "Year          2011         2012         2013  \n",
       "count    12.000000    12.000000    12.000000  \n",
       "mean   4122.083333  4043.500000  3736.583333  \n",
       "std     462.668634   479.079325   420.371580  \n",
       "min    3248.000000  3468.000000  3094.000000  \n",
       "25%    3815.750000  3655.750000  3404.500000  \n",
       "50%    4081.000000  3933.500000  3826.500000  \n",
       "75%    4461.750000  4391.000000  4082.750000  \n",
       "max    4883.000000  4811.000000  4277.000000  "
      ]
     },
     "execution_count": 36,
     "metadata": {},
     "output_type": "execute_result"
    }
   ],
   "source": [
    "MY.describe()"
   ]
  },
  {
   "cell_type": "code",
   "execution_count": 37,
   "metadata": {
    "collapsed": false
   },
   "outputs": [
    {
     "data": {
      "text/plain": [
       "Year\n",
       "2001    5709\n",
       "2002    6062\n",
       "2003    5262\n",
       "2004    5173\n",
       "2005    4981\n",
       "2006    5107\n",
       "2007    4829\n",
       "2008    4888\n",
       "2009    5043\n",
       "2010    4994\n",
       "2011    4883\n",
       "2012    4811\n",
       "2013    4277\n",
       "dtype: int64"
      ]
     },
     "execution_count": 37,
     "metadata": {},
     "output_type": "execute_result"
    }
   ],
   "source": [
    "MY.max()"
   ]
  },
  {
   "cell_type": "code",
   "execution_count": 38,
   "metadata": {
    "collapsed": false
   },
   "outputs": [],
   "source": [
    "MonthCount = ts.groupby('Month').count()"
   ]
  },
  {
   "cell_type": "code",
   "execution_count": 39,
   "metadata": {
    "collapsed": false
   },
   "outputs": [
    {
     "data": {
      "text/plain": [
       "<matplotlib.text.Text at 0x11a553a20>"
      ]
     },
     "execution_count": 39,
     "metadata": {},
     "output_type": "execute_result"
    },
    {
     "data": {
      "image/png": "[encoded data removed]",
      "text/plain": [
       "<matplotlib.figure.Figure at 0x120a22978>"
      ]
     },
     "metadata": {},
     "output_type": "display_data"
    }
   ],
   "source": [
    "MonthCount.Domestic.plot(kind='hist', bins=20, title='Frequency of Mean Incidents Per Month 2001 - 2013')\n",
    "plt.xlabel('Monthly Incidents')\n",
    "plt.ylabel('Frequency')"
   ]
  },
  {
   "cell_type": "code",
   "execution_count": 40,
   "metadata": {
    "collapsed": false
   },
   "outputs": [
    {
     "data": {
      "text/html": [
       "<div>\n",
       "<table border=\"1\" class=\"dataframe\">\n",
       "  <thead>\n",
       "    <tr style=\"text-align: right;\">\n",
       "      <th></th>\n",
       "      <th>Date</th>\n",
       "      <th>Domestic</th>\n",
       "      <th>day_of_week</th>\n",
       "      <th>Year</th>\n",
       "      <th>Day</th>\n",
       "    </tr>\n",
       "    <tr>\n",
       "      <th>Month</th>\n",
       "      <th></th>\n",
       "      <th></th>\n",
       "      <th></th>\n",
       "      <th></th>\n",
       "      <th></th>\n",
       "    </tr>\n",
       "  </thead>\n",
       "  <tbody>\n",
       "    <tr>\n",
       "      <th>7</th>\n",
       "      <td>64986</td>\n",
       "      <td>64986</td>\n",
       "      <td>64986</td>\n",
       "      <td>64986</td>\n",
       "      <td>64986</td>\n",
       "    </tr>\n",
       "    <tr>\n",
       "      <th>6</th>\n",
       "      <td>63811</td>\n",
       "      <td>63811</td>\n",
       "      <td>63811</td>\n",
       "      <td>63811</td>\n",
       "      <td>63811</td>\n",
       "    </tr>\n",
       "    <tr>\n",
       "      <th>5</th>\n",
       "      <td>63521</td>\n",
       "      <td>63521</td>\n",
       "      <td>63521</td>\n",
       "      <td>63521</td>\n",
       "      <td>63521</td>\n",
       "    </tr>\n",
       "    <tr>\n",
       "      <th>8</th>\n",
       "      <td>60975</td>\n",
       "      <td>60975</td>\n",
       "      <td>60975</td>\n",
       "      <td>60975</td>\n",
       "      <td>60975</td>\n",
       "    </tr>\n",
       "    <tr>\n",
       "      <th>4</th>\n",
       "      <td>58745</td>\n",
       "      <td>58745</td>\n",
       "      <td>58745</td>\n",
       "      <td>58745</td>\n",
       "      <td>58745</td>\n",
       "    </tr>\n",
       "    <tr>\n",
       "      <th>3</th>\n",
       "      <td>57815</td>\n",
       "      <td>57815</td>\n",
       "      <td>57815</td>\n",
       "      <td>57815</td>\n",
       "      <td>57815</td>\n",
       "    </tr>\n",
       "    <tr>\n",
       "      <th>9</th>\n",
       "      <td>55979</td>\n",
       "      <td>55979</td>\n",
       "      <td>55979</td>\n",
       "      <td>55979</td>\n",
       "      <td>55979</td>\n",
       "    </tr>\n",
       "    <tr>\n",
       "      <th>10</th>\n",
       "      <td>53636</td>\n",
       "      <td>53636</td>\n",
       "      <td>53636</td>\n",
       "      <td>53636</td>\n",
       "      <td>53636</td>\n",
       "    </tr>\n",
       "    <tr>\n",
       "      <th>1</th>\n",
       "      <td>52570</td>\n",
       "      <td>52570</td>\n",
       "      <td>52570</td>\n",
       "      <td>52570</td>\n",
       "      <td>52570</td>\n",
       "    </tr>\n",
       "    <tr>\n",
       "      <th>11</th>\n",
       "      <td>49864</td>\n",
       "      <td>49864</td>\n",
       "      <td>49864</td>\n",
       "      <td>49864</td>\n",
       "      <td>49864</td>\n",
       "    </tr>\n",
       "    <tr>\n",
       "      <th>12</th>\n",
       "      <td>49465</td>\n",
       "      <td>49465</td>\n",
       "      <td>49465</td>\n",
       "      <td>49465</td>\n",
       "      <td>49465</td>\n",
       "    </tr>\n",
       "    <tr>\n",
       "      <th>2</th>\n",
       "      <td>47758</td>\n",
       "      <td>47758</td>\n",
       "      <td>47758</td>\n",
       "      <td>47758</td>\n",
       "      <td>47758</td>\n",
       "    </tr>\n",
       "  </tbody>\n",
       "</table>\n",
       "</div>"
      ],
      "text/plain": [
       "        Date  Domestic  day_of_week   Year    Day\n",
       "Month                                            \n",
       "7      64986     64986        64986  64986  64986\n",
       "6      63811     63811        63811  63811  63811\n",
       "5      63521     63521        63521  63521  63521\n",
       "8      60975     60975        60975  60975  60975\n",
       "4      58745     58745        58745  58745  58745\n",
       "3      57815     57815        57815  57815  57815\n",
       "9      55979     55979        55979  55979  55979\n",
       "10     53636     53636        53636  53636  53636\n",
       "1      52570     52570        52570  52570  52570\n",
       "11     49864     49864        49864  49864  49864\n",
       "12     49465     49465        49465  49465  49465\n",
       "2      47758     47758        47758  47758  47758"
      ]
     },
     "execution_count": 40,
     "metadata": {},
     "output_type": "execute_result"
    }
   ],
   "source": [
    "MonthCount.nlargest(12, \"Domestic\")"
   ]
  },
  {
   "cell_type": "markdown",
   "metadata": {},
   "source": [
    "### Step 10: Crosstab Year - Describe & Visualize\n",
    "#### There is a downward in incidents of domestic violence over the 13 years."
   ]
  },
  {
   "cell_type": "code",
   "execution_count": 58,
   "metadata": {
    "collapsed": false
   },
   "outputs": [],
   "source": [
    "Year = pd.crosstab(ts.Year, ts.Domestic)"
   ]
  },
  {
   "cell_type": "code",
   "execution_count": 59,
   "metadata": {
    "collapsed": false
   },
   "outputs": [
    {
     "data": {
      "text/html": [
       "<div>\n",
       "<table border=\"1\" class=\"dataframe\">\n",
       "  <thead>\n",
       "    <tr style=\"text-align: right;\">\n",
       "      <th>Domestic</th>\n",
       "      <th>1</th>\n",
       "    </tr>\n",
       "    <tr>\n",
       "      <th>Year</th>\n",
       "      <th></th>\n",
       "    </tr>\n",
       "  </thead>\n",
       "  <tbody>\n",
       "    <tr>\n",
       "      <th>2001</th>\n",
       "      <td>58686</td>\n",
       "    </tr>\n",
       "    <tr>\n",
       "      <th>2002</th>\n",
       "      <td>61186</td>\n",
       "    </tr>\n",
       "    <tr>\n",
       "      <th>2003</th>\n",
       "      <td>53820</td>\n",
       "    </tr>\n",
       "    <tr>\n",
       "      <th>2004</th>\n",
       "      <td>54461</td>\n",
       "    </tr>\n",
       "    <tr>\n",
       "      <th>2005</th>\n",
       "      <td>50722</td>\n",
       "    </tr>\n",
       "    <tr>\n",
       "      <th>2006</th>\n",
       "      <td>51301</td>\n",
       "    </tr>\n",
       "    <tr>\n",
       "      <th>2007</th>\n",
       "      <td>50925</td>\n",
       "    </tr>\n",
       "    <tr>\n",
       "      <th>2008</th>\n",
       "      <td>50448</td>\n",
       "    </tr>\n",
       "    <tr>\n",
       "      <th>2009</th>\n",
       "      <td>52947</td>\n",
       "    </tr>\n",
       "    <tr>\n",
       "      <th>2010</th>\n",
       "      <td>51803</td>\n",
       "    </tr>\n",
       "    <tr>\n",
       "      <th>2011</th>\n",
       "      <td>49465</td>\n",
       "    </tr>\n",
       "    <tr>\n",
       "      <th>2012</th>\n",
       "      <td>48522</td>\n",
       "    </tr>\n",
       "    <tr>\n",
       "      <th>2013</th>\n",
       "      <td>44839</td>\n",
       "    </tr>\n",
       "  </tbody>\n",
       "</table>\n",
       "</div>"
      ],
      "text/plain": [
       "Domestic      1\n",
       "Year           \n",
       "2001      58686\n",
       "2002      61186\n",
       "2003      53820\n",
       "2004      54461\n",
       "2005      50722\n",
       "2006      51301\n",
       "2007      50925\n",
       "2008      50448\n",
       "2009      52947\n",
       "2010      51803\n",
       "2011      49465\n",
       "2012      48522\n",
       "2013      44839"
      ]
     },
     "execution_count": 59,
     "metadata": {},
     "output_type": "execute_result"
    }
   ],
   "source": [
    "Year"
   ]
  },
  {
   "cell_type": "code",
   "execution_count": 62,
   "metadata": {
    "collapsed": false
   },
   "outputs": [
    {
     "data": {
      "text/html": [
       "<div>\n",
       "<table border=\"1\" class=\"dataframe\">\n",
       "  <thead>\n",
       "    <tr style=\"text-align: right;\">\n",
       "      <th>Domestic</th>\n",
       "      <th>1</th>\n",
       "    </tr>\n",
       "  </thead>\n",
       "  <tbody>\n",
       "    <tr>\n",
       "      <th>count</th>\n",
       "      <td>13.000000</td>\n",
       "    </tr>\n",
       "    <tr>\n",
       "      <th>mean</th>\n",
       "      <td>52240.384615</td>\n",
       "    </tr>\n",
       "    <tr>\n",
       "      <th>std</th>\n",
       "      <td>4224.209720</td>\n",
       "    </tr>\n",
       "    <tr>\n",
       "      <th>min</th>\n",
       "      <td>44839.000000</td>\n",
       "    </tr>\n",
       "    <tr>\n",
       "      <th>25%</th>\n",
       "      <td>50448.000000</td>\n",
       "    </tr>\n",
       "    <tr>\n",
       "      <th>50%</th>\n",
       "      <td>51301.000000</td>\n",
       "    </tr>\n",
       "    <tr>\n",
       "      <th>75%</th>\n",
       "      <td>53820.000000</td>\n",
       "    </tr>\n",
       "    <tr>\n",
       "      <th>max</th>\n",
       "      <td>61186.000000</td>\n",
       "    </tr>\n",
       "  </tbody>\n",
       "</table>\n",
       "</div>"
      ],
      "text/plain": [
       "Domestic             1\n",
       "count        13.000000\n",
       "mean      52240.384615\n",
       "std        4224.209720\n",
       "min       44839.000000\n",
       "25%       50448.000000\n",
       "50%       51301.000000\n",
       "75%       53820.000000\n",
       "max       61186.000000"
      ]
     },
     "execution_count": 62,
     "metadata": {},
     "output_type": "execute_result"
    }
   ],
   "source": [
    "Year.describe()"
   ]
  },
  {
   "cell_type": "code",
   "execution_count": 61,
   "metadata": {
    "collapsed": false
   },
   "outputs": [
    {
     "data": {
      "text/plain": [
       "<matplotlib.text.Text at 0x119ea4dd8>"
      ]
     },
     "execution_count": 61,
     "metadata": {},
     "output_type": "execute_result"
    },
    {
     "data": {
      "image/png": "[encoded data removed]",
      "text/plain": [
       "<matplotlib.figure.Figure at 0x119dc7da0>"
      ]
     },
     "metadata": {},
     "output_type": "display_data"
    }
   ],
   "source": [
    "Year.plot(title='Incidents of Domestic Violence Per Year 2001 - 2013')\n",
    "plt.xlabel('Year')\n",
    "plt.ylabel('Number Reported Incidents')"
   ]
  },
  {
   "cell_type": "code",
   "execution_count": 64,
   "metadata": {
    "collapsed": false
   },
   "outputs": [
    {
     "data": {
      "text/plain": [
       "<matplotlib.text.Text at 0x11a8e2cf8>"
      ]
     },
     "execution_count": 64,
     "metadata": {},
     "output_type": "execute_result"
    },
    {
     "data": {
      "image/png": "[encoded data removed]",
      "text/plain": [
       "<matplotlib.figure.Figure at 0x11a856908>"
      ]
     },
     "metadata": {},
     "output_type": "display_data"
    }
   ],
   "source": [
    "Year.plot(kind='hist', bins=20, title='Frequency of Incidents Per Year')\n",
    "plt.xlabel('Yearly Incidents')\n",
    "plt.ylabel('Frequency')"
   ]
  },
  {
   "cell_type": "markdown",
   "metadata": {},
   "source": [
    "### Step 11: Crosstab by day and Month - Describe & Visualize --Note that \"zeros\" were automatically imputed to create data points for 31 days in each month.\n",
    "#### Plot shows that the number of incidents per day stays fairly steady throughout the month.  There are few clear peaks: January 1, July 4 and 5, and Mid-June.\n"
   ]
  },
  {
   "cell_type": "code",
   "execution_count": 47,
   "metadata": {
    "collapsed": false
   },
   "outputs": [
    {
     "data": {
      "text/html": [
       "<div>\n",
       "<table border=\"1\" class=\"dataframe\">\n",
       "  <thead>\n",
       "    <tr style=\"text-align: right;\">\n",
       "      <th>Month</th>\n",
       "      <th>1</th>\n",
       "      <th>2</th>\n",
       "      <th>3</th>\n",
       "      <th>4</th>\n",
       "      <th>5</th>\n",
       "      <th>6</th>\n",
       "      <th>7</th>\n",
       "      <th>8</th>\n",
       "      <th>9</th>\n",
       "      <th>10</th>\n",
       "      <th>11</th>\n",
       "      <th>12</th>\n",
       "    </tr>\n",
       "    <tr>\n",
       "      <th>Day</th>\n",
       "      <th></th>\n",
       "      <th></th>\n",
       "      <th></th>\n",
       "      <th></th>\n",
       "      <th></th>\n",
       "      <th></th>\n",
       "      <th></th>\n",
       "      <th></th>\n",
       "      <th></th>\n",
       "      <th></th>\n",
       "      <th></th>\n",
       "      <th></th>\n",
       "    </tr>\n",
       "  </thead>\n",
       "  <tbody>\n",
       "    <tr>\n",
       "      <th>1</th>\n",
       "      <td>3632</td>\n",
       "      <td>1853</td>\n",
       "      <td>2023</td>\n",
       "      <td>2262</td>\n",
       "      <td>2240</td>\n",
       "      <td>2440</td>\n",
       "      <td>2303</td>\n",
       "      <td>2249</td>\n",
       "      <td>2361</td>\n",
       "      <td>1997</td>\n",
       "      <td>1952</td>\n",
       "      <td>1784</td>\n",
       "    </tr>\n",
       "    <tr>\n",
       "      <th>2</th>\n",
       "      <td>1677</td>\n",
       "      <td>1582</td>\n",
       "      <td>1781</td>\n",
       "      <td>1983</td>\n",
       "      <td>1998</td>\n",
       "      <td>2160</td>\n",
       "      <td>2025</td>\n",
       "      <td>2099</td>\n",
       "      <td>2090</td>\n",
       "      <td>1864</td>\n",
       "      <td>1722</td>\n",
       "      <td>1560</td>\n",
       "    </tr>\n",
       "    <tr>\n",
       "      <th>3</th>\n",
       "      <td>1766</td>\n",
       "      <td>1612</td>\n",
       "      <td>1811</td>\n",
       "      <td>1854</td>\n",
       "      <td>1919</td>\n",
       "      <td>1999</td>\n",
       "      <td>2158</td>\n",
       "      <td>2059</td>\n",
       "      <td>1996</td>\n",
       "      <td>1700</td>\n",
       "      <td>1671</td>\n",
       "      <td>1521</td>\n",
       "    </tr>\n",
       "    <tr>\n",
       "      <th>4</th>\n",
       "      <td>1666</td>\n",
       "      <td>1698</td>\n",
       "      <td>1843</td>\n",
       "      <td>1910</td>\n",
       "      <td>1999</td>\n",
       "      <td>1888</td>\n",
       "      <td>2691</td>\n",
       "      <td>2071</td>\n",
       "      <td>1911</td>\n",
       "      <td>1754</td>\n",
       "      <td>1703</td>\n",
       "      <td>1554</td>\n",
       "    </tr>\n",
       "    <tr>\n",
       "      <th>5</th>\n",
       "      <td>1663</td>\n",
       "      <td>1680</td>\n",
       "      <td>1744</td>\n",
       "      <td>1819</td>\n",
       "      <td>2091</td>\n",
       "      <td>1868</td>\n",
       "      <td>2441</td>\n",
       "      <td>2124</td>\n",
       "      <td>1914</td>\n",
       "      <td>1746</td>\n",
       "      <td>1619</td>\n",
       "      <td>1474</td>\n",
       "    </tr>\n",
       "    <tr>\n",
       "      <th>6</th>\n",
       "      <td>1704</td>\n",
       "      <td>1559</td>\n",
       "      <td>1775</td>\n",
       "      <td>1925</td>\n",
       "      <td>1982</td>\n",
       "      <td>1982</td>\n",
       "      <td>2092</td>\n",
       "      <td>2074</td>\n",
       "      <td>1973</td>\n",
       "      <td>1732</td>\n",
       "      <td>1629</td>\n",
       "      <td>1551</td>\n",
       "    </tr>\n",
       "    <tr>\n",
       "      <th>7</th>\n",
       "      <td>1697</td>\n",
       "      <td>1649</td>\n",
       "      <td>1786</td>\n",
       "      <td>1885</td>\n",
       "      <td>2058</td>\n",
       "      <td>2059</td>\n",
       "      <td>2062</td>\n",
       "      <td>2032</td>\n",
       "      <td>1910</td>\n",
       "      <td>1679</td>\n",
       "      <td>1699</td>\n",
       "      <td>1532</td>\n",
       "    </tr>\n",
       "    <tr>\n",
       "      <th>8</th>\n",
       "      <td>1680</td>\n",
       "      <td>1631</td>\n",
       "      <td>1743</td>\n",
       "      <td>1928</td>\n",
       "      <td>2036</td>\n",
       "      <td>2159</td>\n",
       "      <td>2178</td>\n",
       "      <td>1976</td>\n",
       "      <td>1928</td>\n",
       "      <td>1813</td>\n",
       "      <td>1707</td>\n",
       "      <td>1511</td>\n",
       "    </tr>\n",
       "    <tr>\n",
       "      <th>9</th>\n",
       "      <td>1580</td>\n",
       "      <td>1628</td>\n",
       "      <td>1839</td>\n",
       "      <td>1823</td>\n",
       "      <td>2156</td>\n",
       "      <td>2171</td>\n",
       "      <td>2074</td>\n",
       "      <td>1966</td>\n",
       "      <td>1853</td>\n",
       "      <td>1798</td>\n",
       "      <td>1726</td>\n",
       "      <td>1453</td>\n",
       "    </tr>\n",
       "    <tr>\n",
       "      <th>10</th>\n",
       "      <td>1646</td>\n",
       "      <td>1598</td>\n",
       "      <td>1889</td>\n",
       "      <td>1994</td>\n",
       "      <td>2124</td>\n",
       "      <td>2187</td>\n",
       "      <td>2129</td>\n",
       "      <td>1980</td>\n",
       "      <td>1904</td>\n",
       "      <td>1778</td>\n",
       "      <td>1757</td>\n",
       "      <td>1509</td>\n",
       "    </tr>\n",
       "    <tr>\n",
       "      <th>11</th>\n",
       "      <td>1570</td>\n",
       "      <td>1689</td>\n",
       "      <td>1872</td>\n",
       "      <td>1883</td>\n",
       "      <td>1955</td>\n",
       "      <td>2029</td>\n",
       "      <td>1984</td>\n",
       "      <td>2075</td>\n",
       "      <td>1928</td>\n",
       "      <td>1712</td>\n",
       "      <td>1660</td>\n",
       "      <td>1529</td>\n",
       "    </tr>\n",
       "    <tr>\n",
       "      <th>12</th>\n",
       "      <td>1678</td>\n",
       "      <td>1694</td>\n",
       "      <td>1882</td>\n",
       "      <td>1915</td>\n",
       "      <td>2019</td>\n",
       "      <td>2138</td>\n",
       "      <td>1982</td>\n",
       "      <td>1990</td>\n",
       "      <td>1913</td>\n",
       "      <td>1786</td>\n",
       "      <td>1670</td>\n",
       "      <td>1589</td>\n",
       "    </tr>\n",
       "    <tr>\n",
       "      <th>13</th>\n",
       "      <td>1700</td>\n",
       "      <td>1566</td>\n",
       "      <td>1777</td>\n",
       "      <td>1933</td>\n",
       "      <td>2018</td>\n",
       "      <td>2139</td>\n",
       "      <td>2057</td>\n",
       "      <td>1859</td>\n",
       "      <td>1788</td>\n",
       "      <td>1790</td>\n",
       "      <td>1588</td>\n",
       "      <td>1559</td>\n",
       "    </tr>\n",
       "    <tr>\n",
       "      <th>14</th>\n",
       "      <td>1631</td>\n",
       "      <td>1740</td>\n",
       "      <td>1893</td>\n",
       "      <td>2062</td>\n",
       "      <td>1994</td>\n",
       "      <td>2072</td>\n",
       "      <td>2169</td>\n",
       "      <td>1935</td>\n",
       "      <td>1924</td>\n",
       "      <td>1670</td>\n",
       "      <td>1620</td>\n",
       "      <td>1574</td>\n",
       "    </tr>\n",
       "    <tr>\n",
       "      <th>15</th>\n",
       "      <td>1771</td>\n",
       "      <td>1857</td>\n",
       "      <td>1916</td>\n",
       "      <td>2222</td>\n",
       "      <td>2121</td>\n",
       "      <td>2196</td>\n",
       "      <td>2144</td>\n",
       "      <td>1954</td>\n",
       "      <td>1885</td>\n",
       "      <td>1736</td>\n",
       "      <td>1640</td>\n",
       "      <td>1559</td>\n",
       "    </tr>\n",
       "    <tr>\n",
       "      <th>16</th>\n",
       "      <td>1587</td>\n",
       "      <td>1742</td>\n",
       "      <td>1915</td>\n",
       "      <td>1922</td>\n",
       "      <td>1982</td>\n",
       "      <td>2307</td>\n",
       "      <td>2093</td>\n",
       "      <td>1916</td>\n",
       "      <td>1786</td>\n",
       "      <td>1683</td>\n",
       "      <td>1634</td>\n",
       "      <td>1506</td>\n",
       "    </tr>\n",
       "    <tr>\n",
       "      <th>17</th>\n",
       "      <td>1616</td>\n",
       "      <td>1795</td>\n",
       "      <td>1928</td>\n",
       "      <td>1913</td>\n",
       "      <td>2000</td>\n",
       "      <td>2349</td>\n",
       "      <td>2112</td>\n",
       "      <td>1946</td>\n",
       "      <td>1762</td>\n",
       "      <td>1691</td>\n",
       "      <td>1608</td>\n",
       "      <td>1421</td>\n",
       "    </tr>\n",
       "    <tr>\n",
       "      <th>18</th>\n",
       "      <td>1544</td>\n",
       "      <td>1724</td>\n",
       "      <td>1929</td>\n",
       "      <td>1992</td>\n",
       "      <td>1991</td>\n",
       "      <td>2232</td>\n",
       "      <td>2026</td>\n",
       "      <td>2003</td>\n",
       "      <td>1820</td>\n",
       "      <td>1674</td>\n",
       "      <td>1669</td>\n",
       "      <td>1500</td>\n",
       "    </tr>\n",
       "    <tr>\n",
       "      <th>19</th>\n",
       "      <td>1661</td>\n",
       "      <td>1679</td>\n",
       "      <td>1927</td>\n",
       "      <td>2012</td>\n",
       "      <td>1919</td>\n",
       "      <td>2114</td>\n",
       "      <td>2008</td>\n",
       "      <td>1944</td>\n",
       "      <td>1769</td>\n",
       "      <td>1742</td>\n",
       "      <td>1625</td>\n",
       "      <td>1518</td>\n",
       "    </tr>\n",
       "    <tr>\n",
       "      <th>20</th>\n",
       "      <td>1672</td>\n",
       "      <td>1660</td>\n",
       "      <td>1829</td>\n",
       "      <td>1981</td>\n",
       "      <td>2138</td>\n",
       "      <td>2280</td>\n",
       "      <td>2149</td>\n",
       "      <td>1940</td>\n",
       "      <td>1775</td>\n",
       "      <td>1861</td>\n",
       "      <td>1669</td>\n",
       "      <td>1540</td>\n",
       "    </tr>\n",
       "    <tr>\n",
       "      <th>21</th>\n",
       "      <td>1666</td>\n",
       "      <td>1669</td>\n",
       "      <td>1818</td>\n",
       "      <td>2021</td>\n",
       "      <td>1921</td>\n",
       "      <td>2230</td>\n",
       "      <td>2106</td>\n",
       "      <td>1870</td>\n",
       "      <td>1948</td>\n",
       "      <td>1773</td>\n",
       "      <td>1593</td>\n",
       "      <td>1546</td>\n",
       "    </tr>\n",
       "    <tr>\n",
       "      <th>22</th>\n",
       "      <td>1544</td>\n",
       "      <td>1666</td>\n",
       "      <td>1813</td>\n",
       "      <td>2084</td>\n",
       "      <td>2025</td>\n",
       "      <td>2082</td>\n",
       "      <td>2056</td>\n",
       "      <td>1823</td>\n",
       "      <td>1840</td>\n",
       "      <td>1635</td>\n",
       "      <td>1719</td>\n",
       "      <td>1635</td>\n",
       "    </tr>\n",
       "    <tr>\n",
       "      <th>23</th>\n",
       "      <td>1624</td>\n",
       "      <td>1757</td>\n",
       "      <td>1907</td>\n",
       "      <td>1969</td>\n",
       "      <td>2001</td>\n",
       "      <td>2122</td>\n",
       "      <td>1965</td>\n",
       "      <td>1819</td>\n",
       "      <td>1793</td>\n",
       "      <td>1647</td>\n",
       "      <td>1770</td>\n",
       "      <td>1586</td>\n",
       "    </tr>\n",
       "    <tr>\n",
       "      <th>24</th>\n",
       "      <td>1454</td>\n",
       "      <td>1771</td>\n",
       "      <td>1984</td>\n",
       "      <td>1972</td>\n",
       "      <td>1990</td>\n",
       "      <td>2088</td>\n",
       "      <td>1993</td>\n",
       "      <td>1858</td>\n",
       "      <td>1724</td>\n",
       "      <td>1649</td>\n",
       "      <td>1586</td>\n",
       "      <td>1726</td>\n",
       "    </tr>\n",
       "    <tr>\n",
       "      <th>25</th>\n",
       "      <td>1548</td>\n",
       "      <td>1734</td>\n",
       "      <td>1925</td>\n",
       "      <td>1901</td>\n",
       "      <td>2060</td>\n",
       "      <td>2133</td>\n",
       "      <td>1981</td>\n",
       "      <td>1897</td>\n",
       "      <td>1753</td>\n",
       "      <td>1663</td>\n",
       "      <td>1642</td>\n",
       "      <td>2105</td>\n",
       "    </tr>\n",
       "    <tr>\n",
       "      <th>26</th>\n",
       "      <td>1595</td>\n",
       "      <td>1652</td>\n",
       "      <td>1803</td>\n",
       "      <td>1772</td>\n",
       "      <td>2071</td>\n",
       "      <td>2094</td>\n",
       "      <td>2047</td>\n",
       "      <td>1979</td>\n",
       "      <td>1771</td>\n",
       "      <td>1667</td>\n",
       "      <td>1674</td>\n",
       "      <td>1606</td>\n",
       "    </tr>\n",
       "    <tr>\n",
       "      <th>27</th>\n",
       "      <td>1723</td>\n",
       "      <td>1678</td>\n",
       "      <td>1900</td>\n",
       "      <td>1996</td>\n",
       "      <td>2096</td>\n",
       "      <td>2045</td>\n",
       "      <td>2058</td>\n",
       "      <td>1930</td>\n",
       "      <td>1656</td>\n",
       "      <td>1691</td>\n",
       "      <td>1685</td>\n",
       "      <td>1610</td>\n",
       "    </tr>\n",
       "    <tr>\n",
       "      <th>28</th>\n",
       "      <td>1658</td>\n",
       "      <td>1753</td>\n",
       "      <td>1788</td>\n",
       "      <td>1943</td>\n",
       "      <td>2182</td>\n",
       "      <td>2046</td>\n",
       "      <td>2041</td>\n",
       "      <td>1944</td>\n",
       "      <td>1754</td>\n",
       "      <td>1694</td>\n",
       "      <td>1609</td>\n",
       "      <td>1733</td>\n",
       "    </tr>\n",
       "    <tr>\n",
       "      <th>29</th>\n",
       "      <td>1572</td>\n",
       "      <td>442</td>\n",
       "      <td>1842</td>\n",
       "      <td>1948</td>\n",
       "      <td>2179</td>\n",
       "      <td>2065</td>\n",
       "      <td>1973</td>\n",
       "      <td>1939</td>\n",
       "      <td>1776</td>\n",
       "      <td>1607</td>\n",
       "      <td>1495</td>\n",
       "      <td>1750</td>\n",
       "    </tr>\n",
       "    <tr>\n",
       "      <th>30</th>\n",
       "      <td>1528</td>\n",
       "      <td>0</td>\n",
       "      <td>1936</td>\n",
       "      <td>1921</td>\n",
       "      <td>2179</td>\n",
       "      <td>2137</td>\n",
       "      <td>1938</td>\n",
       "      <td>1865</td>\n",
       "      <td>1774</td>\n",
       "      <td>1683</td>\n",
       "      <td>1523</td>\n",
       "      <td>1670</td>\n",
       "    </tr>\n",
       "    <tr>\n",
       "      <th>31</th>\n",
       "      <td>1517</td>\n",
       "      <td>0</td>\n",
       "      <td>1997</td>\n",
       "      <td>0</td>\n",
       "      <td>2077</td>\n",
       "      <td>0</td>\n",
       "      <td>1951</td>\n",
       "      <td>1859</td>\n",
       "      <td>0</td>\n",
       "      <td>1721</td>\n",
       "      <td>0</td>\n",
       "      <td>1754</td>\n",
       "    </tr>\n",
       "  </tbody>\n",
       "</table>\n",
       "</div>"
      ],
      "text/plain": [
       "Month    1     2     3     4     5     6     7     8     9     10    11    12\n",
       "Day                                                                          \n",
       "1      3632  1853  2023  2262  2240  2440  2303  2249  2361  1997  1952  1784\n",
       "2      1677  1582  1781  1983  1998  2160  2025  2099  2090  1864  1722  1560\n",
       "3      1766  1612  1811  1854  1919  1999  2158  2059  1996  1700  1671  1521\n",
       "4      1666  1698  1843  1910  1999  1888  2691  2071  1911  1754  1703  1554\n",
       "5      1663  1680  1744  1819  2091  1868  2441  2124  1914  1746  1619  1474\n",
       "6      1704  1559  1775  1925  1982  1982  2092  2074  1973  1732  1629  1551\n",
       "7      1697  1649  1786  1885  2058  2059  2062  2032  1910  1679  1699  1532\n",
       "8      1680  1631  1743  1928  2036  2159  2178  1976  1928  1813  1707  1511\n",
       "9      1580  1628  1839  1823  2156  2171  2074  1966  1853  1798  1726  1453\n",
       "10     1646  1598  1889  1994  2124  2187  2129  1980  1904  1778  1757  1509\n",
       "11     1570  1689  1872  1883  1955  2029  1984  2075  1928  1712  1660  1529\n",
       "12     1678  1694  1882  1915  2019  2138  1982  1990  1913  1786  1670  1589\n",
       "13     1700  1566  1777  1933  2018  2139  2057  1859  1788  1790  1588  1559\n",
       "14     1631  1740  1893  2062  1994  2072  2169  1935  1924  1670  1620  1574\n",
       "15     1771  1857  1916  2222  2121  2196  2144  1954  1885  1736  1640  1559\n",
       "16     1587  1742  1915  1922  1982  2307  2093  1916  1786  1683  1634  1506\n",
       "17     1616  1795  1928  1913  2000  2349  2112  1946  1762  1691  1608  1421\n",
       "18     1544  1724  1929  1992  1991  2232  2026  2003  1820  1674  1669  1500\n",
       "19     1661  1679  1927  2012  1919  2114  2008  1944  1769  1742  1625  1518\n",
       "20     1672  1660  1829  1981  2138  2280  2149  1940  1775  1861  1669  1540\n",
       "21     1666  1669  1818  2021  1921  2230  2106  1870  1948  1773  1593  1546\n",
       "22     1544  1666  1813  2084  2025  2082  2056  1823  1840  1635  1719  1635\n",
       "23     1624  1757  1907  1969  2001  2122  1965  1819  1793  1647  1770  1586\n",
       "24     1454  1771  1984  1972  1990  2088  1993  1858  1724  1649  1586  1726\n",
       "25     1548  1734  1925  1901  2060  2133  1981  1897  1753  1663  1642  2105\n",
       "26     1595  1652  1803  1772  2071  2094  2047  1979  1771  1667  1674  1606\n",
       "27     1723  1678  1900  1996  2096  2045  2058  1930  1656  1691  1685  1610\n",
       "28     1658  1753  1788  1943  2182  2046  2041  1944  1754  1694  1609  1733\n",
       "29     1572   442  1842  1948  2179  2065  1973  1939  1776  1607  1495  1750\n",
       "30     1528     0  1936  1921  2179  2137  1938  1865  1774  1683  1523  1670\n",
       "31     1517     0  1997     0  2077     0  1951  1859     0  1721     0  1754"
      ]
     },
     "execution_count": 47,
     "metadata": {},
     "output_type": "execute_result"
    }
   ],
   "source": [
    "DM = pd.crosstab(ts['Day'], ts['Month'], rownames=['Day'])\n",
    "DM"
   ]
  },
  {
   "cell_type": "code",
   "execution_count": 48,
   "metadata": {
    "collapsed": false
   },
   "outputs": [
    {
     "data": {
      "text/html": [
       "<div>\n",
       "<table border=\"1\" class=\"dataframe\">\n",
       "  <thead>\n",
       "    <tr style=\"text-align: right;\">\n",
       "      <th>Month</th>\n",
       "      <th>1</th>\n",
       "      <th>2</th>\n",
       "      <th>3</th>\n",
       "      <th>4</th>\n",
       "      <th>5</th>\n",
       "      <th>6</th>\n",
       "      <th>7</th>\n",
       "      <th>8</th>\n",
       "      <th>9</th>\n",
       "      <th>10</th>\n",
       "      <th>11</th>\n",
       "      <th>12</th>\n",
       "    </tr>\n",
       "  </thead>\n",
       "  <tbody>\n",
       "    <tr>\n",
       "      <th>count</th>\n",
       "      <td>31.000000</td>\n",
       "      <td>31.000000</td>\n",
       "      <td>31.00000</td>\n",
       "      <td>31.000000</td>\n",
       "      <td>31.000000</td>\n",
       "      <td>31.000000</td>\n",
       "      <td>31.000000</td>\n",
       "      <td>31.000000</td>\n",
       "      <td>31.000000</td>\n",
       "      <td>31.000000</td>\n",
       "      <td>31.000000</td>\n",
       "      <td>31.000000</td>\n",
       "    </tr>\n",
       "    <tr>\n",
       "      <th>mean</th>\n",
       "      <td>1695.806452</td>\n",
       "      <td>1540.580645</td>\n",
       "      <td>1865.00000</td>\n",
       "      <td>1895.000000</td>\n",
       "      <td>2049.064516</td>\n",
       "      <td>2058.419355</td>\n",
       "      <td>2096.322581</td>\n",
       "      <td>1966.935484</td>\n",
       "      <td>1805.774194</td>\n",
       "      <td>1730.193548</td>\n",
       "      <td>1608.516129</td>\n",
       "      <td>1595.645161</td>\n",
       "    </tr>\n",
       "    <tr>\n",
       "      <th>std</th>\n",
       "      <td>366.903477</td>\n",
       "      <td>473.918191</td>\n",
       "      <td>74.41774</td>\n",
       "      <td>366.093066</td>\n",
       "      <td>84.433775</td>\n",
       "      <td>400.693380</td>\n",
       "      <td>152.243749</td>\n",
       "      <td>96.811134</td>\n",
       "      <td>359.887270</td>\n",
       "      <td>80.681026</td>\n",
       "      <td>309.407161</td>\n",
       "      <td>131.468259</td>\n",
       "    </tr>\n",
       "    <tr>\n",
       "      <th>min</th>\n",
       "      <td>1454.000000</td>\n",
       "      <td>0.000000</td>\n",
       "      <td>1743.00000</td>\n",
       "      <td>0.000000</td>\n",
       "      <td>1919.000000</td>\n",
       "      <td>0.000000</td>\n",
       "      <td>1938.000000</td>\n",
       "      <td>1819.000000</td>\n",
       "      <td>0.000000</td>\n",
       "      <td>1607.000000</td>\n",
       "      <td>0.000000</td>\n",
       "      <td>1421.000000</td>\n",
       "    </tr>\n",
       "    <tr>\n",
       "      <th>25%</th>\n",
       "      <td>1576.000000</td>\n",
       "      <td>1620.000000</td>\n",
       "      <td>1807.00000</td>\n",
       "      <td>1905.500000</td>\n",
       "      <td>1992.500000</td>\n",
       "      <td>2052.500000</td>\n",
       "      <td>2000.500000</td>\n",
       "      <td>1906.500000</td>\n",
       "      <td>1772.500000</td>\n",
       "      <td>1676.500000</td>\n",
       "      <td>1614.000000</td>\n",
       "      <td>1519.500000</td>\n",
       "    </tr>\n",
       "    <tr>\n",
       "      <th>50%</th>\n",
       "      <td>1658.000000</td>\n",
       "      <td>1678.000000</td>\n",
       "      <td>1872.00000</td>\n",
       "      <td>1933.000000</td>\n",
       "      <td>2025.000000</td>\n",
       "      <td>2122.000000</td>\n",
       "      <td>2058.000000</td>\n",
       "      <td>1946.000000</td>\n",
       "      <td>1840.000000</td>\n",
       "      <td>1712.000000</td>\n",
       "      <td>1660.000000</td>\n",
       "      <td>1559.000000</td>\n",
       "    </tr>\n",
       "    <tr>\n",
       "      <th>75%</th>\n",
       "      <td>1679.000000</td>\n",
       "      <td>1737.000000</td>\n",
       "      <td>1920.50000</td>\n",
       "      <td>1993.000000</td>\n",
       "      <td>2108.500000</td>\n",
       "      <td>2179.000000</td>\n",
       "      <td>2136.500000</td>\n",
       "      <td>2017.500000</td>\n",
       "      <td>1919.000000</td>\n",
       "      <td>1775.500000</td>\n",
       "      <td>1701.000000</td>\n",
       "      <td>1622.500000</td>\n",
       "    </tr>\n",
       "    <tr>\n",
       "      <th>max</th>\n",
       "      <td>3632.000000</td>\n",
       "      <td>1857.000000</td>\n",
       "      <td>2023.00000</td>\n",
       "      <td>2262.000000</td>\n",
       "      <td>2240.000000</td>\n",
       "      <td>2440.000000</td>\n",
       "      <td>2691.000000</td>\n",
       "      <td>2249.000000</td>\n",
       "      <td>2361.000000</td>\n",
       "      <td>1997.000000</td>\n",
       "      <td>1952.000000</td>\n",
       "      <td>2105.000000</td>\n",
       "    </tr>\n",
       "  </tbody>\n",
       "</table>\n",
       "</div>"
      ],
      "text/plain": [
       "Month           1            2           3            4            5   \\\n",
       "count    31.000000    31.000000    31.00000    31.000000    31.000000   \n",
       "mean   1695.806452  1540.580645  1865.00000  1895.000000  2049.064516   \n",
       "std     366.903477   473.918191    74.41774   366.093066    84.433775   \n",
       "min    1454.000000     0.000000  1743.00000     0.000000  1919.000000   \n",
       "25%    1576.000000  1620.000000  1807.00000  1905.500000  1992.500000   \n",
       "50%    1658.000000  1678.000000  1872.00000  1933.000000  2025.000000   \n",
       "75%    1679.000000  1737.000000  1920.50000  1993.000000  2108.500000   \n",
       "max    3632.000000  1857.000000  2023.00000  2262.000000  2240.000000   \n",
       "\n",
       "Month           6            7            8            9            10  \\\n",
       "count    31.000000    31.000000    31.000000    31.000000    31.000000   \n",
       "mean   2058.419355  2096.322581  1966.935484  1805.774194  1730.193548   \n",
       "std     400.693380   152.243749    96.811134   359.887270    80.681026   \n",
       "min       0.000000  1938.000000  1819.000000     0.000000  1607.000000   \n",
       "25%    2052.500000  2000.500000  1906.500000  1772.500000  1676.500000   \n",
       "50%    2122.000000  2058.000000  1946.000000  1840.000000  1712.000000   \n",
       "75%    2179.000000  2136.500000  2017.500000  1919.000000  1775.500000   \n",
       "max    2440.000000  2691.000000  2249.000000  2361.000000  1997.000000   \n",
       "\n",
       "Month           11           12  \n",
       "count    31.000000    31.000000  \n",
       "mean   1608.516129  1595.645161  \n",
       "std     309.407161   131.468259  \n",
       "min       0.000000  1421.000000  \n",
       "25%    1614.000000  1519.500000  \n",
       "50%    1660.000000  1559.000000  \n",
       "75%    1701.000000  1622.500000  \n",
       "max    1952.000000  2105.000000  "
      ]
     },
     "execution_count": 48,
     "metadata": {},
     "output_type": "execute_result"
    }
   ],
   "source": [
    "DM.describe()"
   ]
  },
  {
   "cell_type": "code",
   "execution_count": 49,
   "metadata": {
    "collapsed": false
   },
   "outputs": [
    {
     "data": {
      "text/plain": [
       "Month\n",
       "1     52570\n",
       "2     47758\n",
       "3     57815\n",
       "4     58745\n",
       "5     63521\n",
       "6     63811\n",
       "7     64986\n",
       "8     60975\n",
       "9     55979\n",
       "10    53636\n",
       "11    49864\n",
       "12    49465\n",
       "dtype: int64"
      ]
     },
     "execution_count": 49,
     "metadata": {},
     "output_type": "execute_result"
    }
   ],
   "source": [
    "DM.sum()"
   ]
  },
  {
   "cell_type": "code",
   "execution_count": 69,
   "metadata": {
    "collapsed": false
   },
   "outputs": [
    {
     "data": {
      "text/plain": [
       "<matplotlib.text.Text at 0x12aa46710>"
      ]
     },
     "execution_count": 69,
     "metadata": {},
     "output_type": "execute_result"
    },
    {
     "data": {
      "image/png": "[encoded data removed]",
      "text/plain": [
       "<matplotlib.figure.Figure at 0x128c5a4a8>"
      ]
     },
     "metadata": {},
     "output_type": "display_data"
    }
   ],
   "source": [
    "DM.plot(title='Incidents Per Day Grouped by Month')\n",
    "plt.xlabel('Day in Month')\n",
    "plt.ylabel('Number Incidents')"
   ]
  },
  {
   "cell_type": "markdown",
   "metadata": {},
   "source": [
    "### Step 12: Groupby TimeGrouper by Week- Describe \n",
    "#### Mean is about 1,000 incidents per week.  Largest number of mean incidents occured in May though July.  Most of the smallest number of mean incidents occured in December and January.  Plot shows there is some seasonality."
   ]
  },
  {
   "cell_type": "code",
   "execution_count": 87,
   "metadata": {
    "collapsed": true
   },
   "outputs": [],
   "source": [
    "ChicagoWeekCount = DayCount.groupby(pd.TimeGrouper(freq='W')).sum()"
   ]
  },
  {
   "cell_type": "code",
   "execution_count": 88,
   "metadata": {
    "collapsed": false
   },
   "outputs": [
    {
     "data": {
      "text/html": [
       "<div>\n",
       "<table border=\"1\" class=\"dataframe\">\n",
       "  <thead>\n",
       "    <tr style=\"text-align: right;\">\n",
       "      <th></th>\n",
       "      <th>Domestic</th>\n",
       "      <th>day_of_week</th>\n",
       "      <th>Month</th>\n",
       "      <th>Year</th>\n",
       "      <th>Day</th>\n",
       "    </tr>\n",
       "    <tr>\n",
       "      <th>Date</th>\n",
       "      <th></th>\n",
       "      <th></th>\n",
       "      <th></th>\n",
       "      <th></th>\n",
       "      <th></th>\n",
       "    </tr>\n",
       "  </thead>\n",
       "  <tbody>\n",
       "    <tr>\n",
       "      <th>2001-01-07</th>\n",
       "      <td>1234</td>\n",
       "      <td>1234</td>\n",
       "      <td>1234</td>\n",
       "      <td>1234</td>\n",
       "      <td>1234</td>\n",
       "    </tr>\n",
       "    <tr>\n",
       "      <th>2001-01-14</th>\n",
       "      <td>1043</td>\n",
       "      <td>1043</td>\n",
       "      <td>1043</td>\n",
       "      <td>1043</td>\n",
       "      <td>1043</td>\n",
       "    </tr>\n",
       "    <tr>\n",
       "      <th>2001-01-21</th>\n",
       "      <td>1055</td>\n",
       "      <td>1055</td>\n",
       "      <td>1055</td>\n",
       "      <td>1055</td>\n",
       "      <td>1055</td>\n",
       "    </tr>\n",
       "    <tr>\n",
       "      <th>2001-01-28</th>\n",
       "      <td>975</td>\n",
       "      <td>975</td>\n",
       "      <td>975</td>\n",
       "      <td>975</td>\n",
       "      <td>975</td>\n",
       "    </tr>\n",
       "    <tr>\n",
       "      <th>2001-02-04</th>\n",
       "      <td>1059</td>\n",
       "      <td>1059</td>\n",
       "      <td>1059</td>\n",
       "      <td>1059</td>\n",
       "      <td>1059</td>\n",
       "    </tr>\n",
       "  </tbody>\n",
       "</table>\n",
       "</div>"
      ],
      "text/plain": [
       "            Domestic  day_of_week  Month  Year   Day\n",
       "Date                                                \n",
       "2001-01-07      1234         1234   1234  1234  1234\n",
       "2001-01-14      1043         1043   1043  1043  1043\n",
       "2001-01-21      1055         1055   1055  1055  1055\n",
       "2001-01-28       975          975    975   975   975\n",
       "2001-02-04      1059         1059   1059  1059  1059"
      ]
     },
     "execution_count": 88,
     "metadata": {},
     "output_type": "execute_result"
    }
   ],
   "source": [
    "ChicagoWeekCount.head()"
   ]
  },
  {
   "cell_type": "code",
   "execution_count": 89,
   "metadata": {
    "collapsed": false
   },
   "outputs": [
    {
     "data": {
      "text/html": [
       "<div>\n",
       "<table border=\"1\" class=\"dataframe\">\n",
       "  <thead>\n",
       "    <tr style=\"text-align: right;\">\n",
       "      <th></th>\n",
       "      <th>Domestic</th>\n",
       "      <th>day_of_week</th>\n",
       "      <th>Month</th>\n",
       "      <th>Year</th>\n",
       "      <th>Day</th>\n",
       "    </tr>\n",
       "  </thead>\n",
       "  <tbody>\n",
       "    <tr>\n",
       "      <th>count</th>\n",
       "      <td>679.000000</td>\n",
       "      <td>679.000000</td>\n",
       "      <td>679.000000</td>\n",
       "      <td>679.000000</td>\n",
       "      <td>679.000000</td>\n",
       "    </tr>\n",
       "    <tr>\n",
       "      <th>mean</th>\n",
       "      <td>1000.184094</td>\n",
       "      <td>1000.184094</td>\n",
       "      <td>1000.184094</td>\n",
       "      <td>1000.184094</td>\n",
       "      <td>1000.184094</td>\n",
       "    </tr>\n",
       "    <tr>\n",
       "      <th>std</th>\n",
       "      <td>144.640955</td>\n",
       "      <td>144.640955</td>\n",
       "      <td>144.640955</td>\n",
       "      <td>144.640955</td>\n",
       "      <td>144.640955</td>\n",
       "    </tr>\n",
       "    <tr>\n",
       "      <th>min</th>\n",
       "      <td>194.000000</td>\n",
       "      <td>194.000000</td>\n",
       "      <td>194.000000</td>\n",
       "      <td>194.000000</td>\n",
       "      <td>194.000000</td>\n",
       "    </tr>\n",
       "    <tr>\n",
       "      <th>25%</th>\n",
       "      <td>901.500000</td>\n",
       "      <td>901.500000</td>\n",
       "      <td>901.500000</td>\n",
       "      <td>901.500000</td>\n",
       "      <td>901.500000</td>\n",
       "    </tr>\n",
       "    <tr>\n",
       "      <th>50%</th>\n",
       "      <td>992.000000</td>\n",
       "      <td>992.000000</td>\n",
       "      <td>992.000000</td>\n",
       "      <td>992.000000</td>\n",
       "      <td>992.000000</td>\n",
       "    </tr>\n",
       "    <tr>\n",
       "      <th>75%</th>\n",
       "      <td>1089.500000</td>\n",
       "      <td>1089.500000</td>\n",
       "      <td>1089.500000</td>\n",
       "      <td>1089.500000</td>\n",
       "      <td>1089.500000</td>\n",
       "    </tr>\n",
       "    <tr>\n",
       "      <th>max</th>\n",
       "      <td>1658.000000</td>\n",
       "      <td>1658.000000</td>\n",
       "      <td>1658.000000</td>\n",
       "      <td>1658.000000</td>\n",
       "      <td>1658.000000</td>\n",
       "    </tr>\n",
       "  </tbody>\n",
       "</table>\n",
       "</div>"
      ],
      "text/plain": [
       "          Domestic  day_of_week        Month         Year          Day\n",
       "count   679.000000   679.000000   679.000000   679.000000   679.000000\n",
       "mean   1000.184094  1000.184094  1000.184094  1000.184094  1000.184094\n",
       "std     144.640955   144.640955   144.640955   144.640955   144.640955\n",
       "min     194.000000   194.000000   194.000000   194.000000   194.000000\n",
       "25%     901.500000   901.500000   901.500000   901.500000   901.500000\n",
       "50%     992.000000   992.000000   992.000000   992.000000   992.000000\n",
       "75%    1089.500000  1089.500000  1089.500000  1089.500000  1089.500000\n",
       "max    1658.000000  1658.000000  1658.000000  1658.000000  1658.000000"
      ]
     },
     "execution_count": 89,
     "metadata": {},
     "output_type": "execute_result"
    }
   ],
   "source": [
    "ChicagoWeekCount.describe()"
   ]
  },
  {
   "cell_type": "code",
   "execution_count": 90,
   "metadata": {
    "collapsed": false
   },
   "outputs": [
    {
     "data": {
      "text/plain": [
       "Date\n",
       "2002-06-02    1658\n",
       "2002-07-07    1519\n",
       "2001-06-17    1511\n",
       "2002-06-16    1435\n",
       "2002-06-23    1415\n",
       "2002-07-21    1408\n",
       "2002-06-30    1392\n",
       "2001-05-06    1364\n",
       "2002-05-19    1347\n",
       "2002-05-26    1340\n",
       "Name: Domestic, dtype: int64"
      ]
     },
     "execution_count": 90,
     "metadata": {},
     "output_type": "execute_result"
    }
   ],
   "source": [
    "ChicagoWeekCount.nlargest(10, 'Domestic')[\"Domestic\"]"
   ]
  },
  {
   "cell_type": "code",
   "execution_count": 91,
   "metadata": {
    "collapsed": false
   },
   "outputs": [
    {
     "data": {
      "text/plain": [
       "Date\n",
       "2014-01-05    194\n",
       "2013-12-15    646\n",
       "2013-12-22    672\n",
       "2005-12-11    695\n",
       "2013-10-27    704\n",
       "2011-02-06    712\n",
       "2008-12-21    718\n",
       "2012-01-22    721\n",
       "2007-12-09    724\n",
       "2013-12-08    724\n",
       "Name: Domestic, dtype: int64"
      ]
     },
     "execution_count": 91,
     "metadata": {},
     "output_type": "execute_result"
    }
   ],
   "source": [
    "ChicagoWeekCount.nsmallest(10, 'Domestic')[\"Domestic\"]"
   ]
  },
  {
   "cell_type": "code",
   "execution_count": 94,
   "metadata": {
    "collapsed": false
   },
   "outputs": [
    {
     "data": {
      "text/plain": [
       "<matplotlib.text.Text at 0x12bac04a8>"
      ]
     },
     "execution_count": 94,
     "metadata": {},
     "output_type": "execute_result"
    },
    {
     "data": {
      "image/png": "[encoded data removed]",
      "text/plain": [
       "<matplotlib.figure.Figure at 0x12af17da0>"
      ]
     },
     "metadata": {},
     "output_type": "display_data"
    }
   ],
   "source": [
    "ChicagoWeekCount.Domestic.plot(title='Number of Incidents Per Week 2001-2013')\n",
    "plt.xlabel('Year')\n",
    "plt.ylabel('Incidents per Week')"
   ]
  },
  {
   "cell_type": "code",
   "execution_count": null,
   "metadata": {
    "collapsed": true
   },
   "outputs": [],
   "source": []
  }
 ],
 "metadata": {
  "anaconda-cloud": {},
  "kernelspec": {
   "display_name": "Python [Root]",
   "language": "python",
   "name": "Python [Root]"
  },
  "language_info": {
   "codemirror_mode": {
    "name": "ipython",
    "version": 3
   },
   "file_extension": ".py",
   "mimetype": "text/x-python",
   "name": "python",
   "nbconvert_exporter": "python",
   "pygments_lexer": "ipython3",
   "version": "3.5.2"
  }
 },
 "nbformat": 4,
 "nbformat_minor": 0
}
