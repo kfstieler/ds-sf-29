{
 "cells": [
  {
   "cell_type": "markdown",
   "metadata": {},
   "source": [
    "# Project 4\n",
    "\n",
    "In this project, you will summarize and present your analysis from Projects 1-3."
   ]
  },
  {
   "cell_type": "markdown",
   "metadata": {},
   "source": [
    "### Intro: Write a problem Statement/ Specific Aim for this project"
   ]
  },
  {
   "cell_type": "markdown",
   "metadata": {},
   "source": [
    "Answer: \n",
    "\n",
    "    Determine if there is an association between graduate school admission and the prestige of a student's undergraduate school using data from the UCLA admissions data set."
   ]
  },
  {
   "cell_type": "markdown",
   "metadata": {},
   "source": [
    "### Dataset:  Write up a description of your data and any cleaning that was completed"
   ]
  },
  {
   "cell_type": "markdown",
   "metadata": {},
   "source": [
    "Answer: \n",
    "The original data set contained admissions factors and status for 400 graduate student applicants.  For each applicant, the GRE, GPA and ranked prestige of his or her undergardaute institution was collected along with their ultimate admission status.  The GRE corresponded to the students GRE score ranging from 200 to 800.  GPA was on a 4.0 scale, with a 4.0 being the highest possible GPA.  Undergraduate Institution prestige was ranked categorically from 1 to 4, with 4 being the most prestigious.  An admission status was recorded as either a \"1\" for admitted or a \"0\" for not admitted.    \n",
    "\n",
    "For three of the students one or more of the factors were missing, e.g., the GPA was not recorded.  These three students were removed from the data set.  Thus, the final data set used for analysis contained the complete information for 397 graduate student applicants.  Of the 397 applicants, 169 (42.56%) of the applicants were admitted.  The admitted applicants had a mean 3.48 GPA and a 618 mean GRE."
   ]
  },
  {
   "cell_type": "markdown",
   "metadata": {
    "collapsed": true
   },
   "source": [
    "### Demo: Provide a table that explains the data by admission status"
   ]
  },
  {
   "cell_type": "markdown",
   "metadata": {},
   "source": [
    "##### Mean (STD) or counts by admission status for each variable \n",
    "\n",
    "| Not Admitted | Admitted\n",
    "---| ---|---\n",
    "GPA mean | \t3.34 (0.37 std)  | 3.48 (0.37 std)\n",
    "GRE mean|573.57 (116.05 std) | 618.57 (109.257 std)\n",
    "Prestige 1 | 28/61 (45.90%) | 33/61 (54.09%)\n",
    "Prestige 2 | 95/148 (64.18%) | 53/148 (35.81%)\n",
    "Prestige 3 |93/121 (76.85%) | 28/121 (23.14%)\n",
    "Prestige 4 |12/67 (82.08%) | 12/67 (17.91%)"
   ]
  },
  {
   "cell_type": "markdown",
   "metadata": {},
   "source": [
    "### Methods: Write up the methods used in your analysis"
   ]
  },
  {
   "cell_type": "markdown",
   "metadata": {},
   "source": [
    "Answer:\n",
    "\n",
    "The data was analyzed using logistical regression with admission as the target variable and GRE, GPA and ranked prestige as the factors.  Dummy variables were used for ranked prestige, with the 1.0 rank being taken out and used as the comparator factor.  The resultant classifier model was evaluated by inputting all possible input values into the model. "
   ]
  },
  {
   "cell_type": "markdown",
   "metadata": {},
   "source": [
    "### Results: Write up your results"
   ]
  },
  {
   "cell_type": "markdown",
   "metadata": {},
   "source": [
    "Answer:\n",
    "   \n",
    "The resultant model showed a direct relationship between the probablity of being admitted and the prestige of an of a candidate's undergraduate school, assuming the same GRE and GPA.  Specifically, the odds of admission decreased as the prestige rank of the undergraduate university decreased.  The odds of admission for someone who graduated from a #2 ranked college are 0.506 smaller than the odds of admission for someone who graduated from a #1 ranked college, all other factors remaining constant.  The odds of admission for someone who graduated from a #3 ranked college are 0.26 smaller than the odds of admission for someone who graduated from a #1 ranked college, all other factors remaining constant.  The odds of admission for someone who graduated from a #4 ranked college are 0.21 smaller than the odds of admission for someone who graduated from a #1 ranked college, all other factors remaining constant.  The odds of admission increased 2.18 times with each 1 point increase in GPA, all other factors remaining constant.  The odds of admission remained relatively the same, 1.002,  with each 10 point increase in GRE score, all other factors remaining constant. \n",
    "          "
   ]
  },
  {
   "cell_type": "markdown",
   "metadata": {},
   "source": [
    "### Visuals: Provide a table or visualization of these results"
   ]
  },
  {
   "cell_type": "markdown",
   "metadata": {},
   "source": [
    "  Logit Regression Results                           \n",
    "==============================================================================\n",
    "Dep. Variable:                  admit   No. Observations:                  397\n",
    "Model:                          Logit   Df Residuals:                      391\n",
    "Method:                           MLE   Df Model:                            5\n",
    "Date:                Sun, 11 Dec 2016   Pseudo R-squ.:                 0.08166\n",
    "Time:                        15:51:28   Log-Likelihood:                -227.82\n",
    "converged:                       True   LL-Null:                       -248.08\n",
    "                                        LLR p-value:                 1.176e-07\n",
    "\n",
    "                   coef    std err          z      P>|z|      [95.0% Conf. Int.]\n",
    "--------------------------------------------------------------------------------\n",
    "gre              0.0022      0.001      2.028      0.043      7.44e-05     0.004\n",
    "gpa              0.7793      0.333      2.344      0.019         0.128     1.431\n",
    "prestige_2.0    -0.6801      0.317     -2.146      0.032        -1.301    -0.059\n",
    "prestige_3.0    -1.3387      0.345     -3.882      0.000        -2.015    -0.663\n",
    "prestige_4.0    -1.5534      0.417     -3.721      0.000        -2.372    -0.735\n",
    "intercept       -3.8769      1.142     -3.393      0.001        -6.116    -1.638"
   ]
  },
  {
   "cell_type": "markdown",
   "metadata": {
    "collapsed": false
   },
   "source": [
    "\n",
    "\n",
    "| 2.5% | 97.5% | OR\n",
    "---| ---|---\n",
    "GRE | \t1.000074  | 1.004372 |1.002221\n",
    "GPA |1.136120 | 4.183113|2.180027\n",
    "Prestige 2 | 0.272168 | 0.942767|0.506548\n",
    "Prestige 3 | 0.133377 | 0.515419|0.262192\n",
    "Prestige 4 |0.093329 | 0.479411|0.211525\n",
    "intercept |0.002207 | 0.194440|0.020716"
   ]
  },
  {
   "cell_type": "markdown",
   "metadata": {},
   "source": [
    "### Discussion: Write up your discussion and future steps"
   ]
  },
  {
   "cell_type": "markdown",
   "metadata": {},
   "source": [
    "Answer: \n",
    "\n",
    "The data shows a strong correlation between the ranked prestige of one's undegraduate institution and the odds of acceptance into graduate school.  In particular, the odds of acceptance are 0.5 as one goes from a # 1 to a # 2 ranked school.  The odds of acceptance in a #3 and a #4 ranked school are both around 0.2 compared to a #1 ranked institution.  \n",
    "\n",
    "A slight change in GRE score, e.g., 10 points, has a limited impact on the odds of admission.  Future studies should cluster GRE scores into bands thus to better flesh out the impact of a larger change in GRE score on admisssion odds.  For example, if one thinks the chance of retaking the GRE will reuslt in just a 10 point score increase, it may not be worthwhile.  However, a 30-point increase may have a more substantial impact."
   ]
  }
 ],
 "metadata": {
  "anaconda-cloud": {},
  "kernelspec": {
   "display_name": "Python [Root]",
   "language": "python",
   "name": "Python [Root]"
  },
  "language_info": {
   "codemirror_mode": {
    "name": "ipython",
    "version": 3
   },
   "file_extension": ".py",
   "mimetype": "text/x-python",
   "name": "python",
   "nbconvert_exporter": "python",
   "pygments_lexer": "ipython3",
   "version": "3.5.2"
  }
 },
 "nbformat": 4,
 "nbformat_minor": 0
}
