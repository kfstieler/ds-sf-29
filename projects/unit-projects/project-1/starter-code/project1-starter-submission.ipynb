{
 "cells": [
  {
   "cell_type": "markdown",
   "metadata": {},
   "source": [
    "# Project 1\n",
    "\n",
    "In this first project you will create a framework to scope out data science projects. This framework will provide you with a guide to develop a well-articulated problem statement and analysis plan that will be robust and reproducible."
   ]
  },
  {
   "cell_type": "markdown",
   "metadata": {},
   "source": [
    "### Read and evaluate the following problem statement: \n",
    "Determine which free-tier customers will covert to paying customers, using demographic data collected at signup (age, gender, location, and profession) and customer useage data (days since last log in, and activity score 1 = active user, 0= inactive user) based on Hooli data from Jan-Apr 2015. \n"
   ]
  },
  {
   "cell_type": "markdown",
   "metadata": {},
   "source": [
    "#### 1. What is the outcome?"
   ]
  },
  {
   "cell_type": "markdown",
   "metadata": {},
   "source": [
    "Answer: free-tier customer convert to paying (yes/no) "
   ]
  },
  {
   "cell_type": "markdown",
   "metadata": {},
   "source": [
    "#### 2. What are the predictors/covariates? "
   ]
  },
  {
   "cell_type": "markdown",
   "metadata": {},
   "source": [
    "Answer: age, gender, location, profession, days since last log in, and activity score"
   ]
  },
  {
   "cell_type": "markdown",
   "metadata": {},
   "source": [
    "#### 3. What timeframe is this data relevent for?"
   ]
  },
  {
   "cell_type": "markdown",
   "metadata": {},
   "source": [
    "Answer: January - April 2015"
   ]
  },
  {
   "cell_type": "markdown",
   "metadata": {},
   "source": [
    "#### 4. What is the hypothesis?"
   ]
  },
  {
   "cell_type": "markdown",
   "metadata": {},
   "source": [
    "Answer: Demographic and customer usage data will allow us to calculate the probablity of whether a free-tier customer converts to a paying customer."
   ]
  },
  {
   "cell_type": "markdown",
   "metadata": {},
   "source": [
    "## Let's get started with our dataset"
   ]
  },
  {
   "cell_type": "markdown",
   "metadata": {},
   "source": [
    "#### 1. Create a data dictionary "
   ]
  },
  {
   "cell_type": "markdown",
   "metadata": {},
   "source": [
    "Answer: \n",
    "\n",
    "Variable | Description | Type of Variable\n",
    "---| ---| ---\n",
    "Admit| 0 = no admit, 1 = admit | binary outcome\n",
    "GRE | GRE Score | continuous\n",
    "GPA | Grade Point Average on 0-4 scale | continuous\n",
    "Prestige | 1 - high, 2 - med high, 3 - med low, 4 - low  | ordinal categorical\n"
   ]
  },
  {
   "cell_type": "markdown",
   "metadata": {},
   "source": [
    "We would like to explore the association between X and Y "
   ]
  },
  {
   "cell_type": "markdown",
   "metadata": {},
   "source": [
    "#### 2. What is the outcome?"
   ]
  },
  {
   "cell_type": "markdown",
   "metadata": {},
   "source": [
    "Answer: graduate school applicant admit status (admit/no admit)"
   ]
  },
  {
   "cell_type": "markdown",
   "metadata": {},
   "source": [
    "#### 3. What are the predictors/covariates? "
   ]
  },
  {
   "cell_type": "markdown",
   "metadata": {},
   "source": [
    "Answer: GRE score, GPA and prestige of undergraduate institution "
   ]
  },
  {
   "cell_type": "markdown",
   "metadata": {},
   "source": [
    "#### 4. What timeframe is this data relevent for?"
   ]
  },
  {
   "cell_type": "markdown",
   "metadata": {},
   "source": [
    "Answer: not provided in example, assume for one application cycle"
   ]
  },
  {
   "cell_type": "markdown",
   "metadata": {},
   "source": [
    "#### 4. What is the hypothesis?"
   ]
  },
  {
   "cell_type": "markdown",
   "metadata": {},
   "source": [
    "Answer: GRE score, GPA and prestige of undergraduate institution will allow us to determine the probability of whether a student is or is not admitted into graduate school."
   ]
  },
  {
   "cell_type": "markdown",
   "metadata": {},
   "source": [
    "    Using the above information, write a well-formed problem statement. \n"
   ]
  },
  {
   "cell_type": "markdown",
   "metadata": {},
   "source": [
    "## Problem Statement\n",
    "Using data collected from graduate student applicantions during one admission cycle, can we determine the probability of whether a graduate school applicant will be admitted to the graduate school program based on the applicant's GRE score, GPA and the ranked prestige of his or her undergraduate institution?"
   ]
  },
  {
   "cell_type": "markdown",
   "metadata": {},
   "source": [
    "### Exploratory Analysis Plan"
   ]
  },
  {
   "cell_type": "markdown",
   "metadata": {},
   "source": [
    "Using the lab from a class as a guide, create an exploratory analysis plan. "
   ]
  },
  {
   "cell_type": "markdown",
   "metadata": {},
   "source": [
    "#### 1. What are the goals of the exploratory analysis? "
   ]
  },
  {
   "cell_type": "markdown",
   "metadata": {
    "collapsed": true
   },
   "source": [
    "Answer: Overarching goals of exploratory analysis: (1) Determine whether you collected the appropriate data or if different or additional data is needed, and (2) determine whether you asked the appropriate question given the study objectives. If these goals are met, meaning the correct data was collected and the appropriate question was asked, then the data should reveal interesting relationships between the variables."
   ]
  },
  {
   "cell_type": "markdown",
   "metadata": {},
   "source": [
    "#### 2a. What are the assumptions of the distribution of data? "
   ]
  },
  {
   "cell_type": "markdown",
   "metadata": {},
   "source": [
    "Answer: Assumption is that the data follows a normal distribution."
   ]
  },
  {
   "cell_type": "markdown",
   "metadata": {},
   "source": [
    "#### 2b. How will determine the distribution of your data? "
   ]
  },
  {
   "cell_type": "markdown",
   "metadata": {
    "collapsed": true
   },
   "source": [
    "Answer: (1) summary statistics - calculate the mean and standard deviation of the data to test for normalcy (2) visualization - plot the data to see whether it creates a symmetrical bell curve."
   ]
  },
  {
   "cell_type": "markdown",
   "metadata": {},
   "source": [
    "#### 3a. How might outliers impact your analysis? "
   ]
  },
  {
   "cell_type": "markdown",
   "metadata": {
    "collapsed": true
   },
   "source": [
    "Answer: Outliers can skew the results of the statistical analysis, particularly summary statistics such as range, mean and variance or standard deviation.  Outliers can also point to areas for further exploration.  For example, an applicant with a particularly compelling personal story or a legacy applicant, but an unusually low GPA or GRE score, may be admitted to the program.  If the sample size is small enough, such results could skew the mean GPA or GRE score of accepted students downwards.  Looking more closely at the outlier may lead to additional research questions or areas for analysis within the data."
   ]
  },
  {
   "cell_type": "markdown",
   "metadata": {},
   "source": [
    "#### 3b. How will you test for outliers? "
   ]
  },
  {
   "cell_type": "markdown",
   "metadata": {},
   "source": [
    "Answer:  At the exploratory phase: (1) create a boxplot of the data. Outliers will be defined as data points 1.5 IQRs above Q3 or below Q1; and (2) create a histogram for the catagorical data.  "
   ]
  },
  {
   "cell_type": "markdown",
   "metadata": {},
   "source": [
    "#### 4a. What is colinearity? "
   ]
  },
  {
   "cell_type": "markdown",
   "metadata": {
    "collapsed": true
   },
   "source": [
    "Answer: Collinearity is when two or more variables are highly correlated.  In such a case, one of the variables may not be necessary in the model because its effect is already captured by the other variable."
   ]
  },
  {
   "cell_type": "markdown",
   "metadata": {},
   "source": [
    "#### 4b. How will you test for colinearity? "
   ]
  },
  {
   "cell_type": "markdown",
   "metadata": {},
   "source": [
    "Answer: First,  understand what the variables are measuring to determine if they might be indicators of the same thing.  This should give a sense of whether collinearity may be an issue.  Second, test the correlation and association between the two independent variables. If two variables are highly correlated, collinearity may exist.  If so, one could calculate the Variation Inflation Factor (VIF).  A high VIF may indicate collinearity exists."
   ]
  },
  {
   "cell_type": "markdown",
   "metadata": {},
   "source": [
    "#### 5. What is your exploratory analysis plan?\n",
    "Using the above information, write an exploratory analysis plan that would allow you or a colleague to reproduce your analysis 1 year from now. "
   ]
  },
  {
   "cell_type": "markdown",
   "metadata": {},
   "source": [
    "Answer: \n",
    "(1) Data Collection/Prep: From UCLA School of Public Health 2-year program collect every graduate school applicant's data, including GRE Score, GPA and prestige of undergraduate institution, from every completed graduate school applicant from the prior year along with the applicant's admit status.  Data should be collected only after a student's final admit status is known, thus once the waitlist cycle is complete. Ensure that the applicant data is matched with the applicant. Prestige ranking comes from graduate school's internal ranking system.  Collect documentation on how prestige ranking is developed to determine if same method is used each year.\n",
    "\n",
    "(2) Create a table with all of the data with each variable in a seperate column and each row representing an applicant. Cut-off all GPA data at the hundredth.  Include a sum of the frequency of each category of data.\n",
    "\n",
    "(3) Impossible/Invalid Data: Review data table for any impossible or invalid variables, e.g., GPA above 4.0. Exclude applicants with impossible or invalid data.\n",
    "\n",
    "(4) Missing Data: Exclude applicant with any missing data.\n",
    "\n",
    "(5) Group the remaining data by each independent variable and by each outcome (admit/not admit)\n",
    "\n",
    "(6) Calculate Data Distribution: From remaining data calculate the distribution of each variable for each outcome.  For GPA group each value into a range category as follows: GPA - 2.00 to 2.33; 2.34 - 2.66; 2.67 - 3.00; 3.01 to 3.33; 3.34 - 3.66; 3.67 - 4.0.  \n",
    "\n",
    "(7) Calculate Summary Statistics: Central Tendencies: Mean, Median, Mode for each variable with each outcome (mean for continuous variable only), ranges, variance and standard deviation. \n",
    "\n",
    "(8) Visualization to test for outliers/distribution: Create a histogram with categorical data (prestige) and boxplots for other data (assume GPA and GRE score are continuous variables). Create seperate histograms and boxplots for each outcome variable. Outliers are defined as data points 1.5 IQRs above Q3 or below Q1.  Plot each continuous variable to check the shape of the distribution of the data points - is it a symmetric bell curve? Check if it appears normal or has any skew or kurtosis.\n",
    "\n",
    "(9) Treatment of Outliers: Create a seperate list of any outlier applicants.  Do not exclude outliers from dataset."
   ]
  },
  {
   "cell_type": "markdown",
   "metadata": {},
   "source": [
    "## Bonus Questions:\n",
    "1. Outline your analysis method for predicting your outcome\n",
    "2. Write an alternative problem statement for your dataset\n",
    "3. Articulate the assumptions and risks of the alternative model"
   ]
  },
  {
   "cell_type": "markdown",
   "metadata": {
    "collapsed": true
   },
   "source": [
    "Alternative problem statement: Using graduate student application data from one admission cycle, can we predict whether a graduate student from an undergraduate institution ranked 1 or 2 will be admitted to the graduate program based on the applicant's GPA and GRE score."
   ]
  }
 ],
 "metadata": {
  "anaconda-cloud": {},
  "kernelspec": {
   "display_name": "Python [Root]",
   "language": "python",
   "name": "Python [Root]"
  },
  "language_info": {
   "codemirror_mode": {
    "name": "ipython",
    "version": 3
   },
   "file_extension": ".py",
   "mimetype": "text/x-python",
   "name": "python",
   "nbconvert_exporter": "python",
   "pygments_lexer": "ipython3",
   "version": "3.5.2"
  }
 },
 "nbformat": 4,
 "nbformat_minor": 0
}
